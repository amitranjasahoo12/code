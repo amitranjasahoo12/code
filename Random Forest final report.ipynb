{
 "cells": [
  {
   "cell_type": "code",
   "execution_count": 1,
   "id": "2709b3cb",
   "metadata": {},
   "outputs": [],
   "source": [
    "# import requied Libraries\n"
   ]
  },
  {
   "cell_type": "code",
   "execution_count": 2,
   "id": "282694c0",
   "metadata": {},
   "outputs": [],
   "source": [
    "import pandas as pd\n",
    "import numpy as np\n",
    "import matplotlib.pyplot as plt\n",
    "import seaborn as sns\n",
    "\n",
    "%matplotlib inline\n",
    "\n",
    "import warnings\n",
    "warnings.filterwarnings(\"ignore\")\n",
    "\n"
   ]
  },
  {
   "cell_type": "code",
   "execution_count": 3,
   "id": "b0992aee",
   "metadata": {},
   "outputs": [],
   "source": [
    "# load Dataset\n",
    "\n",
    "from sklearn.datasets import load_boston\n",
    "\n",
    "from sklearn import datasets \n"
   ]
  },
  {
   "cell_type": "code",
   "execution_count": 4,
   "id": "f52eb1f9",
   "metadata": {},
   "outputs": [
    {
     "name": "stdout",
     "output_type": "stream",
     "text": [
      "which type of the dataset:  <class 'sklearn.utils.Bunch'>\n"
     ]
    }
   ],
   "source": [
    "\n",
    "boston = datasets.load_boston()\n",
    "\n",
    "\n",
    "boston = load_boston()\n",
    "print(\"which type of the dataset: \",type(boston))\n",
    "\n"
   ]
  },
  {
   "cell_type": "code",
   "execution_count": 5,
   "id": "6cbce4e9",
   "metadata": {},
   "outputs": [
    {
     "data": {
      "text/plain": [
       "{'data': array([[6.3200e-03, 1.8000e+01, 2.3100e+00, ..., 1.5300e+01, 3.9690e+02,\n",
       "         4.9800e+00],\n",
       "        [2.7310e-02, 0.0000e+00, 7.0700e+00, ..., 1.7800e+01, 3.9690e+02,\n",
       "         9.1400e+00],\n",
       "        [2.7290e-02, 0.0000e+00, 7.0700e+00, ..., 1.7800e+01, 3.9283e+02,\n",
       "         4.0300e+00],\n",
       "        ...,\n",
       "        [6.0760e-02, 0.0000e+00, 1.1930e+01, ..., 2.1000e+01, 3.9690e+02,\n",
       "         5.6400e+00],\n",
       "        [1.0959e-01, 0.0000e+00, 1.1930e+01, ..., 2.1000e+01, 3.9345e+02,\n",
       "         6.4800e+00],\n",
       "        [4.7410e-02, 0.0000e+00, 1.1930e+01, ..., 2.1000e+01, 3.9690e+02,\n",
       "         7.8800e+00]]),\n",
       " 'target': array([24. , 21.6, 34.7, 33.4, 36.2, 28.7, 22.9, 27.1, 16.5, 18.9, 15. ,\n",
       "        18.9, 21.7, 20.4, 18.2, 19.9, 23.1, 17.5, 20.2, 18.2, 13.6, 19.6,\n",
       "        15.2, 14.5, 15.6, 13.9, 16.6, 14.8, 18.4, 21. , 12.7, 14.5, 13.2,\n",
       "        13.1, 13.5, 18.9, 20. , 21. , 24.7, 30.8, 34.9, 26.6, 25.3, 24.7,\n",
       "        21.2, 19.3, 20. , 16.6, 14.4, 19.4, 19.7, 20.5, 25. , 23.4, 18.9,\n",
       "        35.4, 24.7, 31.6, 23.3, 19.6, 18.7, 16. , 22.2, 25. , 33. , 23.5,\n",
       "        19.4, 22. , 17.4, 20.9, 24.2, 21.7, 22.8, 23.4, 24.1, 21.4, 20. ,\n",
       "        20.8, 21.2, 20.3, 28. , 23.9, 24.8, 22.9, 23.9, 26.6, 22.5, 22.2,\n",
       "        23.6, 28.7, 22.6, 22. , 22.9, 25. , 20.6, 28.4, 21.4, 38.7, 43.8,\n",
       "        33.2, 27.5, 26.5, 18.6, 19.3, 20.1, 19.5, 19.5, 20.4, 19.8, 19.4,\n",
       "        21.7, 22.8, 18.8, 18.7, 18.5, 18.3, 21.2, 19.2, 20.4, 19.3, 22. ,\n",
       "        20.3, 20.5, 17.3, 18.8, 21.4, 15.7, 16.2, 18. , 14.3, 19.2, 19.6,\n",
       "        23. , 18.4, 15.6, 18.1, 17.4, 17.1, 13.3, 17.8, 14. , 14.4, 13.4,\n",
       "        15.6, 11.8, 13.8, 15.6, 14.6, 17.8, 15.4, 21.5, 19.6, 15.3, 19.4,\n",
       "        17. , 15.6, 13.1, 41.3, 24.3, 23.3, 27. , 50. , 50. , 50. , 22.7,\n",
       "        25. , 50. , 23.8, 23.8, 22.3, 17.4, 19.1, 23.1, 23.6, 22.6, 29.4,\n",
       "        23.2, 24.6, 29.9, 37.2, 39.8, 36.2, 37.9, 32.5, 26.4, 29.6, 50. ,\n",
       "        32. , 29.8, 34.9, 37. , 30.5, 36.4, 31.1, 29.1, 50. , 33.3, 30.3,\n",
       "        34.6, 34.9, 32.9, 24.1, 42.3, 48.5, 50. , 22.6, 24.4, 22.5, 24.4,\n",
       "        20. , 21.7, 19.3, 22.4, 28.1, 23.7, 25. , 23.3, 28.7, 21.5, 23. ,\n",
       "        26.7, 21.7, 27.5, 30.1, 44.8, 50. , 37.6, 31.6, 46.7, 31.5, 24.3,\n",
       "        31.7, 41.7, 48.3, 29. , 24. , 25.1, 31.5, 23.7, 23.3, 22. , 20.1,\n",
       "        22.2, 23.7, 17.6, 18.5, 24.3, 20.5, 24.5, 26.2, 24.4, 24.8, 29.6,\n",
       "        42.8, 21.9, 20.9, 44. , 50. , 36. , 30.1, 33.8, 43.1, 48.8, 31. ,\n",
       "        36.5, 22.8, 30.7, 50. , 43.5, 20.7, 21.1, 25.2, 24.4, 35.2, 32.4,\n",
       "        32. , 33.2, 33.1, 29.1, 35.1, 45.4, 35.4, 46. , 50. , 32.2, 22. ,\n",
       "        20.1, 23.2, 22.3, 24.8, 28.5, 37.3, 27.9, 23.9, 21.7, 28.6, 27.1,\n",
       "        20.3, 22.5, 29. , 24.8, 22. , 26.4, 33.1, 36.1, 28.4, 33.4, 28.2,\n",
       "        22.8, 20.3, 16.1, 22.1, 19.4, 21.6, 23.8, 16.2, 17.8, 19.8, 23.1,\n",
       "        21. , 23.8, 23.1, 20.4, 18.5, 25. , 24.6, 23. , 22.2, 19.3, 22.6,\n",
       "        19.8, 17.1, 19.4, 22.2, 20.7, 21.1, 19.5, 18.5, 20.6, 19. , 18.7,\n",
       "        32.7, 16.5, 23.9, 31.2, 17.5, 17.2, 23.1, 24.5, 26.6, 22.9, 24.1,\n",
       "        18.6, 30.1, 18.2, 20.6, 17.8, 21.7, 22.7, 22.6, 25. , 19.9, 20.8,\n",
       "        16.8, 21.9, 27.5, 21.9, 23.1, 50. , 50. , 50. , 50. , 50. , 13.8,\n",
       "        13.8, 15. , 13.9, 13.3, 13.1, 10.2, 10.4, 10.9, 11.3, 12.3,  8.8,\n",
       "         7.2, 10.5,  7.4, 10.2, 11.5, 15.1, 23.2,  9.7, 13.8, 12.7, 13.1,\n",
       "        12.5,  8.5,  5. ,  6.3,  5.6,  7.2, 12.1,  8.3,  8.5,  5. , 11.9,\n",
       "        27.9, 17.2, 27.5, 15. , 17.2, 17.9, 16.3,  7. ,  7.2,  7.5, 10.4,\n",
       "         8.8,  8.4, 16.7, 14.2, 20.8, 13.4, 11.7,  8.3, 10.2, 10.9, 11. ,\n",
       "         9.5, 14.5, 14.1, 16.1, 14.3, 11.7, 13.4,  9.6,  8.7,  8.4, 12.8,\n",
       "        10.5, 17.1, 18.4, 15.4, 10.8, 11.8, 14.9, 12.6, 14.1, 13. , 13.4,\n",
       "        15.2, 16.1, 17.8, 14.9, 14.1, 12.7, 13.5, 14.9, 20. , 16.4, 17.7,\n",
       "        19.5, 20.2, 21.4, 19.9, 19. , 19.1, 19.1, 20.1, 19.9, 19.6, 23.2,\n",
       "        29.8, 13.8, 13.3, 16.7, 12. , 14.6, 21.4, 23. , 23.7, 25. , 21.8,\n",
       "        20.6, 21.2, 19.1, 20.6, 15.2,  7. ,  8.1, 13.6, 20.1, 21.8, 24.5,\n",
       "        23.1, 19.7, 18.3, 21.2, 17.5, 16.8, 22.4, 20.6, 23.9, 22. , 11.9]),\n",
       " 'feature_names': array(['CRIM', 'ZN', 'INDUS', 'CHAS', 'NOX', 'RM', 'AGE', 'DIS', 'RAD',\n",
       "        'TAX', 'PTRATIO', 'B', 'LSTAT'], dtype='<U7'),\n",
       " 'DESCR': \".. _boston_dataset:\\n\\nBoston house prices dataset\\n---------------------------\\n\\n**Data Set Characteristics:**  \\n\\n    :Number of Instances: 506 \\n\\n    :Number of Attributes: 13 numeric/categorical predictive. Median Value (attribute 14) is usually the target.\\n\\n    :Attribute Information (in order):\\n        - CRIM     per capita crime rate by town\\n        - ZN       proportion of residential land zoned for lots over 25,000 sq.ft.\\n        - INDUS    proportion of non-retail business acres per town\\n        - CHAS     Charles River dummy variable (= 1 if tract bounds river; 0 otherwise)\\n        - NOX      nitric oxides concentration (parts per 10 million)\\n        - RM       average number of rooms per dwelling\\n        - AGE      proportion of owner-occupied units built prior to 1940\\n        - DIS      weighted distances to five Boston employment centres\\n        - RAD      index of accessibility to radial highways\\n        - TAX      full-value property-tax rate per $10,000\\n        - PTRATIO  pupil-teacher ratio by town\\n        - B        1000(Bk - 0.63)^2 where Bk is the proportion of black people by town\\n        - LSTAT    % lower status of the population\\n        - MEDV     Median value of owner-occupied homes in $1000's\\n\\n    :Missing Attribute Values: None\\n\\n    :Creator: Harrison, D. and Rubinfeld, D.L.\\n\\nThis is a copy of UCI ML housing dataset.\\nhttps://archive.ics.uci.edu/ml/machine-learning-databases/housing/\\n\\n\\nThis dataset was taken from the StatLib library which is maintained at Carnegie Mellon University.\\n\\nThe Boston house-price data of Harrison, D. and Rubinfeld, D.L. 'Hedonic\\nprices and the demand for clean air', J. Environ. Economics & Management,\\nvol.5, 81-102, 1978.   Used in Belsley, Kuh & Welsch, 'Regression diagnostics\\n...', Wiley, 1980.   N.B. Various transformations are used in the table on\\npages 244-261 of the latter.\\n\\nThe Boston house-price data has been used in many machine learning papers that address regression\\nproblems.   \\n     \\n.. topic:: References\\n\\n   - Belsley, Kuh & Welsch, 'Regression diagnostics: Identifying Influential Data and Sources of Collinearity', Wiley, 1980. 244-261.\\n   - Quinlan,R. (1993). Combining Instance-Based and Model-Based Learning. In Proceedings on the Tenth International Conference of Machine Learning, 236-243, University of Massachusetts, Amherst. Morgan Kaufmann.\\n\",\n",
       " 'filename': 'C:\\\\Users\\\\sony\\\\anaconda3\\\\lib\\\\site-packages\\\\sklearn\\\\datasets\\\\data\\\\boston_house_prices.csv'}"
      ]
     },
     "execution_count": 5,
     "metadata": {},
     "output_type": "execute_result"
    }
   ],
   "source": [
    "boston"
   ]
  },
  {
   "cell_type": "code",
   "execution_count": 6,
   "id": "4d00812a",
   "metadata": {},
   "outputs": [],
   "source": [
    "features = pd.DataFrame(boston.data,columns=boston.feature_names)\n",
    "\n",
    "targets = boston.target"
   ]
  },
  {
   "cell_type": "code",
   "execution_count": 7,
   "id": "15b3d2c4",
   "metadata": {},
   "outputs": [
    {
     "data": {
      "text/html": [
       "<div>\n",
       "<style scoped>\n",
       "    .dataframe tbody tr th:only-of-type {\n",
       "        vertical-align: middle;\n",
       "    }\n",
       "\n",
       "    .dataframe tbody tr th {\n",
       "        vertical-align: top;\n",
       "    }\n",
       "\n",
       "    .dataframe thead th {\n",
       "        text-align: right;\n",
       "    }\n",
       "</style>\n",
       "<table border=\"1\" class=\"dataframe\">\n",
       "  <thead>\n",
       "    <tr style=\"text-align: right;\">\n",
       "      <th></th>\n",
       "      <th>CRIM</th>\n",
       "      <th>ZN</th>\n",
       "      <th>INDUS</th>\n",
       "      <th>CHAS</th>\n",
       "      <th>NOX</th>\n",
       "      <th>RM</th>\n",
       "      <th>AGE</th>\n",
       "      <th>DIS</th>\n",
       "      <th>RAD</th>\n",
       "      <th>TAX</th>\n",
       "      <th>PTRATIO</th>\n",
       "      <th>B</th>\n",
       "      <th>LSTAT</th>\n",
       "    </tr>\n",
       "  </thead>\n",
       "  <tbody>\n",
       "    <tr>\n",
       "      <th>0</th>\n",
       "      <td>0.00632</td>\n",
       "      <td>18.0</td>\n",
       "      <td>2.31</td>\n",
       "      <td>0.0</td>\n",
       "      <td>0.538</td>\n",
       "      <td>6.575</td>\n",
       "      <td>65.2</td>\n",
       "      <td>4.0900</td>\n",
       "      <td>1.0</td>\n",
       "      <td>296.0</td>\n",
       "      <td>15.3</td>\n",
       "      <td>396.90</td>\n",
       "      <td>4.98</td>\n",
       "    </tr>\n",
       "    <tr>\n",
       "      <th>1</th>\n",
       "      <td>0.02731</td>\n",
       "      <td>0.0</td>\n",
       "      <td>7.07</td>\n",
       "      <td>0.0</td>\n",
       "      <td>0.469</td>\n",
       "      <td>6.421</td>\n",
       "      <td>78.9</td>\n",
       "      <td>4.9671</td>\n",
       "      <td>2.0</td>\n",
       "      <td>242.0</td>\n",
       "      <td>17.8</td>\n",
       "      <td>396.90</td>\n",
       "      <td>9.14</td>\n",
       "    </tr>\n",
       "    <tr>\n",
       "      <th>2</th>\n",
       "      <td>0.02729</td>\n",
       "      <td>0.0</td>\n",
       "      <td>7.07</td>\n",
       "      <td>0.0</td>\n",
       "      <td>0.469</td>\n",
       "      <td>7.185</td>\n",
       "      <td>61.1</td>\n",
       "      <td>4.9671</td>\n",
       "      <td>2.0</td>\n",
       "      <td>242.0</td>\n",
       "      <td>17.8</td>\n",
       "      <td>392.83</td>\n",
       "      <td>4.03</td>\n",
       "    </tr>\n",
       "    <tr>\n",
       "      <th>3</th>\n",
       "      <td>0.03237</td>\n",
       "      <td>0.0</td>\n",
       "      <td>2.18</td>\n",
       "      <td>0.0</td>\n",
       "      <td>0.458</td>\n",
       "      <td>6.998</td>\n",
       "      <td>45.8</td>\n",
       "      <td>6.0622</td>\n",
       "      <td>3.0</td>\n",
       "      <td>222.0</td>\n",
       "      <td>18.7</td>\n",
       "      <td>394.63</td>\n",
       "      <td>2.94</td>\n",
       "    </tr>\n",
       "    <tr>\n",
       "      <th>4</th>\n",
       "      <td>0.06905</td>\n",
       "      <td>0.0</td>\n",
       "      <td>2.18</td>\n",
       "      <td>0.0</td>\n",
       "      <td>0.458</td>\n",
       "      <td>7.147</td>\n",
       "      <td>54.2</td>\n",
       "      <td>6.0622</td>\n",
       "      <td>3.0</td>\n",
       "      <td>222.0</td>\n",
       "      <td>18.7</td>\n",
       "      <td>396.90</td>\n",
       "      <td>5.33</td>\n",
       "    </tr>\n",
       "  </tbody>\n",
       "</table>\n",
       "</div>"
      ],
      "text/plain": [
       "      CRIM    ZN  INDUS  CHAS    NOX     RM   AGE     DIS  RAD    TAX  \\\n",
       "0  0.00632  18.0   2.31   0.0  0.538  6.575  65.2  4.0900  1.0  296.0   \n",
       "1  0.02731   0.0   7.07   0.0  0.469  6.421  78.9  4.9671  2.0  242.0   \n",
       "2  0.02729   0.0   7.07   0.0  0.469  7.185  61.1  4.9671  2.0  242.0   \n",
       "3  0.03237   0.0   2.18   0.0  0.458  6.998  45.8  6.0622  3.0  222.0   \n",
       "4  0.06905   0.0   2.18   0.0  0.458  7.147  54.2  6.0622  3.0  222.0   \n",
       "\n",
       "   PTRATIO       B  LSTAT  \n",
       "0     15.3  396.90   4.98  \n",
       "1     17.8  396.90   9.14  \n",
       "2     17.8  392.83   4.03  \n",
       "3     18.7  394.63   2.94  \n",
       "4     18.7  396.90   5.33  "
      ]
     },
     "execution_count": 7,
     "metadata": {},
     "output_type": "execute_result"
    }
   ],
   "source": [
    "features.head()"
   ]
  },
  {
   "cell_type": "code",
   "execution_count": 8,
   "id": "d3757069",
   "metadata": {},
   "outputs": [
    {
     "data": {
      "text/plain": [
       "array([24. , 21.6, 34.7, 33.4, 36.2, 28.7, 22.9, 27.1, 16.5, 18.9, 15. ,\n",
       "       18.9, 21.7, 20.4, 18.2, 19.9, 23.1, 17.5, 20.2, 18.2, 13.6, 19.6,\n",
       "       15.2, 14.5, 15.6, 13.9, 16.6, 14.8, 18.4, 21. , 12.7, 14.5, 13.2,\n",
       "       13.1, 13.5, 18.9, 20. , 21. , 24.7, 30.8, 34.9, 26.6, 25.3, 24.7,\n",
       "       21.2, 19.3, 20. , 16.6, 14.4, 19.4, 19.7, 20.5, 25. , 23.4, 18.9,\n",
       "       35.4, 24.7, 31.6, 23.3, 19.6, 18.7, 16. , 22.2, 25. , 33. , 23.5,\n",
       "       19.4, 22. , 17.4, 20.9, 24.2, 21.7, 22.8, 23.4, 24.1, 21.4, 20. ,\n",
       "       20.8, 21.2, 20.3, 28. , 23.9, 24.8, 22.9, 23.9, 26.6, 22.5, 22.2,\n",
       "       23.6, 28.7, 22.6, 22. , 22.9, 25. , 20.6, 28.4, 21.4, 38.7, 43.8,\n",
       "       33.2, 27.5, 26.5, 18.6, 19.3, 20.1, 19.5, 19.5, 20.4, 19.8, 19.4,\n",
       "       21.7, 22.8, 18.8, 18.7, 18.5, 18.3, 21.2, 19.2, 20.4, 19.3, 22. ,\n",
       "       20.3, 20.5, 17.3, 18.8, 21.4, 15.7, 16.2, 18. , 14.3, 19.2, 19.6,\n",
       "       23. , 18.4, 15.6, 18.1, 17.4, 17.1, 13.3, 17.8, 14. , 14.4, 13.4,\n",
       "       15.6, 11.8, 13.8, 15.6, 14.6, 17.8, 15.4, 21.5, 19.6, 15.3, 19.4,\n",
       "       17. , 15.6, 13.1, 41.3, 24.3, 23.3, 27. , 50. , 50. , 50. , 22.7,\n",
       "       25. , 50. , 23.8, 23.8, 22.3, 17.4, 19.1, 23.1, 23.6, 22.6, 29.4,\n",
       "       23.2, 24.6, 29.9, 37.2, 39.8, 36.2, 37.9, 32.5, 26.4, 29.6, 50. ,\n",
       "       32. , 29.8, 34.9, 37. , 30.5, 36.4, 31.1, 29.1, 50. , 33.3, 30.3,\n",
       "       34.6, 34.9, 32.9, 24.1, 42.3, 48.5, 50. , 22.6, 24.4, 22.5, 24.4,\n",
       "       20. , 21.7, 19.3, 22.4, 28.1, 23.7, 25. , 23.3, 28.7, 21.5, 23. ,\n",
       "       26.7, 21.7, 27.5, 30.1, 44.8, 50. , 37.6, 31.6, 46.7, 31.5, 24.3,\n",
       "       31.7, 41.7, 48.3, 29. , 24. , 25.1, 31.5, 23.7, 23.3, 22. , 20.1,\n",
       "       22.2, 23.7, 17.6, 18.5, 24.3, 20.5, 24.5, 26.2, 24.4, 24.8, 29.6,\n",
       "       42.8, 21.9, 20.9, 44. , 50. , 36. , 30.1, 33.8, 43.1, 48.8, 31. ,\n",
       "       36.5, 22.8, 30.7, 50. , 43.5, 20.7, 21.1, 25.2, 24.4, 35.2, 32.4,\n",
       "       32. , 33.2, 33.1, 29.1, 35.1, 45.4, 35.4, 46. , 50. , 32.2, 22. ,\n",
       "       20.1, 23.2, 22.3, 24.8, 28.5, 37.3, 27.9, 23.9, 21.7, 28.6, 27.1,\n",
       "       20.3, 22.5, 29. , 24.8, 22. , 26.4, 33.1, 36.1, 28.4, 33.4, 28.2,\n",
       "       22.8, 20.3, 16.1, 22.1, 19.4, 21.6, 23.8, 16.2, 17.8, 19.8, 23.1,\n",
       "       21. , 23.8, 23.1, 20.4, 18.5, 25. , 24.6, 23. , 22.2, 19.3, 22.6,\n",
       "       19.8, 17.1, 19.4, 22.2, 20.7, 21.1, 19.5, 18.5, 20.6, 19. , 18.7,\n",
       "       32.7, 16.5, 23.9, 31.2, 17.5, 17.2, 23.1, 24.5, 26.6, 22.9, 24.1,\n",
       "       18.6, 30.1, 18.2, 20.6, 17.8, 21.7, 22.7, 22.6, 25. , 19.9, 20.8,\n",
       "       16.8, 21.9, 27.5, 21.9, 23.1, 50. , 50. , 50. , 50. , 50. , 13.8,\n",
       "       13.8, 15. , 13.9, 13.3, 13.1, 10.2, 10.4, 10.9, 11.3, 12.3,  8.8,\n",
       "        7.2, 10.5,  7.4, 10.2, 11.5, 15.1, 23.2,  9.7, 13.8, 12.7, 13.1,\n",
       "       12.5,  8.5,  5. ,  6.3,  5.6,  7.2, 12.1,  8.3,  8.5,  5. , 11.9,\n",
       "       27.9, 17.2, 27.5, 15. , 17.2, 17.9, 16.3,  7. ,  7.2,  7.5, 10.4,\n",
       "        8.8,  8.4, 16.7, 14.2, 20.8, 13.4, 11.7,  8.3, 10.2, 10.9, 11. ,\n",
       "        9.5, 14.5, 14.1, 16.1, 14.3, 11.7, 13.4,  9.6,  8.7,  8.4, 12.8,\n",
       "       10.5, 17.1, 18.4, 15.4, 10.8, 11.8, 14.9, 12.6, 14.1, 13. , 13.4,\n",
       "       15.2, 16.1, 17.8, 14.9, 14.1, 12.7, 13.5, 14.9, 20. , 16.4, 17.7,\n",
       "       19.5, 20.2, 21.4, 19.9, 19. , 19.1, 19.1, 20.1, 19.9, 19.6, 23.2,\n",
       "       29.8, 13.8, 13.3, 16.7, 12. , 14.6, 21.4, 23. , 23.7, 25. , 21.8,\n",
       "       20.6, 21.2, 19.1, 20.6, 15.2,  7. ,  8.1, 13.6, 20.1, 21.8, 24.5,\n",
       "       23.1, 19.7, 18.3, 21.2, 17.5, 16.8, 22.4, 20.6, 23.9, 22. , 11.9])"
      ]
     },
     "execution_count": 8,
     "metadata": {},
     "output_type": "execute_result"
    }
   ],
   "source": [
    "targets"
   ]
  },
  {
   "cell_type": "code",
   "execution_count": 9,
   "id": "2f5028d0",
   "metadata": {},
   "outputs": [
    {
     "data": {
      "text/plain": [
       "array(['CRIM', 'ZN', 'INDUS', 'CHAS', 'NOX', 'RM', 'AGE', 'DIS', 'RAD',\n",
       "       'TAX', 'PTRATIO', 'B', 'LSTAT'], dtype='<U7')"
      ]
     },
     "execution_count": 9,
     "metadata": {},
     "output_type": "execute_result"
    }
   ],
   "source": [
    "boston.feature_names"
   ]
  },
  {
   "cell_type": "code",
   "execution_count": 10,
   "id": "5e103e31",
   "metadata": {},
   "outputs": [
    {
     "name": "stdout",
     "output_type": "stream",
     "text": [
      "<class 'pandas.core.frame.DataFrame'>\n",
      "RangeIndex: 506 entries, 0 to 505\n",
      "Data columns (total 13 columns):\n",
      " #   Column   Non-Null Count  Dtype  \n",
      "---  ------   --------------  -----  \n",
      " 0   CRIM     506 non-null    float64\n",
      " 1   ZN       506 non-null    float64\n",
      " 2   INDUS    506 non-null    float64\n",
      " 3   CHAS     506 non-null    float64\n",
      " 4   NOX      506 non-null    float64\n",
      " 5   RM       506 non-null    float64\n",
      " 6   AGE      506 non-null    float64\n",
      " 7   DIS      506 non-null    float64\n",
      " 8   RAD      506 non-null    float64\n",
      " 9   TAX      506 non-null    float64\n",
      " 10  PTRATIO  506 non-null    float64\n",
      " 11  B        506 non-null    float64\n",
      " 12  LSTAT    506 non-null    float64\n",
      "dtypes: float64(13)\n",
      "memory usage: 51.5 KB\n",
      "Data type infomation:  None\n",
      "\n",
      "\n",
      "\n",
      "Shape of the dataframe:  (506, 13)\n"
     ]
    }
   ],
   "source": [
    "#Check the Dtype of dataframe\n",
    "print(\"Data type infomation: \",features.info())\n",
    "\n",
    "print(\"\\n\\n\")\n",
    "\n",
    "print(\"Shape of the dataframe: \", features.shape)"
   ]
  },
  {
   "cell_type": "code",
   "execution_count": 11,
   "id": "f28e8bc7",
   "metadata": {},
   "outputs": [
    {
     "data": {
      "text/plain": [
       "CRIM       float64\n",
       "ZN         float64\n",
       "INDUS      float64\n",
       "CHAS       float64\n",
       "NOX        float64\n",
       "RM         float64\n",
       "AGE        float64\n",
       "DIS        float64\n",
       "RAD        float64\n",
       "TAX        float64\n",
       "PTRATIO    float64\n",
       "B          float64\n",
       "LSTAT      float64\n",
       "dtype: object"
      ]
     },
     "execution_count": 11,
     "metadata": {},
     "output_type": "execute_result"
    }
   ],
   "source": [
    "features.dtypes"
   ]
  },
  {
   "cell_type": "code",
   "execution_count": 12,
   "id": "b86fd8a0",
   "metadata": {},
   "outputs": [
    {
     "data": {
      "text/html": [
       "<div>\n",
       "<style scoped>\n",
       "    .dataframe tbody tr th:only-of-type {\n",
       "        vertical-align: middle;\n",
       "    }\n",
       "\n",
       "    .dataframe tbody tr th {\n",
       "        vertical-align: top;\n",
       "    }\n",
       "\n",
       "    .dataframe thead th {\n",
       "        text-align: right;\n",
       "    }\n",
       "</style>\n",
       "<table border=\"1\" class=\"dataframe\">\n",
       "  <thead>\n",
       "    <tr style=\"text-align: right;\">\n",
       "      <th></th>\n",
       "      <th>CRIM</th>\n",
       "      <th>ZN</th>\n",
       "      <th>INDUS</th>\n",
       "      <th>CHAS</th>\n",
       "      <th>NOX</th>\n",
       "      <th>RM</th>\n",
       "      <th>AGE</th>\n",
       "      <th>DIS</th>\n",
       "      <th>RAD</th>\n",
       "      <th>TAX</th>\n",
       "      <th>PTRATIO</th>\n",
       "      <th>B</th>\n",
       "      <th>LSTAT</th>\n",
       "      <th>PRICE</th>\n",
       "    </tr>\n",
       "  </thead>\n",
       "  <tbody>\n",
       "    <tr>\n",
       "      <th>0</th>\n",
       "      <td>0.00632</td>\n",
       "      <td>18.0</td>\n",
       "      <td>2.31</td>\n",
       "      <td>0.0</td>\n",
       "      <td>0.538</td>\n",
       "      <td>6.575</td>\n",
       "      <td>65.2</td>\n",
       "      <td>4.0900</td>\n",
       "      <td>1.0</td>\n",
       "      <td>296.0</td>\n",
       "      <td>15.3</td>\n",
       "      <td>396.90</td>\n",
       "      <td>4.98</td>\n",
       "      <td>24.0</td>\n",
       "    </tr>\n",
       "    <tr>\n",
       "      <th>1</th>\n",
       "      <td>0.02731</td>\n",
       "      <td>0.0</td>\n",
       "      <td>7.07</td>\n",
       "      <td>0.0</td>\n",
       "      <td>0.469</td>\n",
       "      <td>6.421</td>\n",
       "      <td>78.9</td>\n",
       "      <td>4.9671</td>\n",
       "      <td>2.0</td>\n",
       "      <td>242.0</td>\n",
       "      <td>17.8</td>\n",
       "      <td>396.90</td>\n",
       "      <td>9.14</td>\n",
       "      <td>21.6</td>\n",
       "    </tr>\n",
       "    <tr>\n",
       "      <th>2</th>\n",
       "      <td>0.02729</td>\n",
       "      <td>0.0</td>\n",
       "      <td>7.07</td>\n",
       "      <td>0.0</td>\n",
       "      <td>0.469</td>\n",
       "      <td>7.185</td>\n",
       "      <td>61.1</td>\n",
       "      <td>4.9671</td>\n",
       "      <td>2.0</td>\n",
       "      <td>242.0</td>\n",
       "      <td>17.8</td>\n",
       "      <td>392.83</td>\n",
       "      <td>4.03</td>\n",
       "      <td>34.7</td>\n",
       "    </tr>\n",
       "    <tr>\n",
       "      <th>3</th>\n",
       "      <td>0.03237</td>\n",
       "      <td>0.0</td>\n",
       "      <td>2.18</td>\n",
       "      <td>0.0</td>\n",
       "      <td>0.458</td>\n",
       "      <td>6.998</td>\n",
       "      <td>45.8</td>\n",
       "      <td>6.0622</td>\n",
       "      <td>3.0</td>\n",
       "      <td>222.0</td>\n",
       "      <td>18.7</td>\n",
       "      <td>394.63</td>\n",
       "      <td>2.94</td>\n",
       "      <td>33.4</td>\n",
       "    </tr>\n",
       "    <tr>\n",
       "      <th>4</th>\n",
       "      <td>0.06905</td>\n",
       "      <td>0.0</td>\n",
       "      <td>2.18</td>\n",
       "      <td>0.0</td>\n",
       "      <td>0.458</td>\n",
       "      <td>7.147</td>\n",
       "      <td>54.2</td>\n",
       "      <td>6.0622</td>\n",
       "      <td>3.0</td>\n",
       "      <td>222.0</td>\n",
       "      <td>18.7</td>\n",
       "      <td>396.90</td>\n",
       "      <td>5.33</td>\n",
       "      <td>36.2</td>\n",
       "    </tr>\n",
       "  </tbody>\n",
       "</table>\n",
       "</div>"
      ],
      "text/plain": [
       "      CRIM    ZN  INDUS  CHAS    NOX     RM   AGE     DIS  RAD    TAX  \\\n",
       "0  0.00632  18.0   2.31   0.0  0.538  6.575  65.2  4.0900  1.0  296.0   \n",
       "1  0.02731   0.0   7.07   0.0  0.469  6.421  78.9  4.9671  2.0  242.0   \n",
       "2  0.02729   0.0   7.07   0.0  0.469  7.185  61.1  4.9671  2.0  242.0   \n",
       "3  0.03237   0.0   2.18   0.0  0.458  6.998  45.8  6.0622  3.0  222.0   \n",
       "4  0.06905   0.0   2.18   0.0  0.458  7.147  54.2  6.0622  3.0  222.0   \n",
       "\n",
       "   PTRATIO       B  LSTAT  PRICE  \n",
       "0     15.3  396.90   4.98   24.0  \n",
       "1     17.8  396.90   9.14   21.6  \n",
       "2     17.8  392.83   4.03   34.7  \n",
       "3     18.7  394.63   2.94   33.4  \n",
       "4     18.7  396.90   5.33   36.2  "
      ]
     },
     "execution_count": 12,
     "metadata": {},
     "output_type": "execute_result"
    }
   ],
   "source": [
    "#Adding target variable to dataframe\n",
    "\n",
    "features['PRICE'] = boston.target \n",
    "\n",
    "# Median value of owner-occupied homes in $1000s\n",
    "\n",
    "features.head()"
   ]
  },
  {
   "cell_type": "code",
   "execution_count": 13,
   "id": "ecf56fd8",
   "metadata": {},
   "outputs": [],
   "source": [
    "# Understand Data"
   ]
  },
  {
   "cell_type": "code",
   "execution_count": 14,
   "id": "0f73d55a",
   "metadata": {},
   "outputs": [
    {
     "data": {
      "text/html": [
       "<div>\n",
       "<style scoped>\n",
       "    .dataframe tbody tr th:only-of-type {\n",
       "        vertical-align: middle;\n",
       "    }\n",
       "\n",
       "    .dataframe tbody tr th {\n",
       "        vertical-align: top;\n",
       "    }\n",
       "\n",
       "    .dataframe thead th {\n",
       "        text-align: right;\n",
       "    }\n",
       "</style>\n",
       "<table border=\"1\" class=\"dataframe\">\n",
       "  <thead>\n",
       "    <tr style=\"text-align: right;\">\n",
       "      <th></th>\n",
       "      <th>count</th>\n",
       "      <th>mean</th>\n",
       "      <th>std</th>\n",
       "      <th>min</th>\n",
       "      <th>25%</th>\n",
       "      <th>50%</th>\n",
       "      <th>75%</th>\n",
       "      <th>max</th>\n",
       "    </tr>\n",
       "  </thead>\n",
       "  <tbody>\n",
       "    <tr>\n",
       "      <th>CRIM</th>\n",
       "      <td>506.0</td>\n",
       "      <td>3.613524</td>\n",
       "      <td>8.601545</td>\n",
       "      <td>0.00632</td>\n",
       "      <td>0.082045</td>\n",
       "      <td>0.25651</td>\n",
       "      <td>3.677083</td>\n",
       "      <td>88.9762</td>\n",
       "    </tr>\n",
       "    <tr>\n",
       "      <th>ZN</th>\n",
       "      <td>506.0</td>\n",
       "      <td>11.363636</td>\n",
       "      <td>23.322453</td>\n",
       "      <td>0.00000</td>\n",
       "      <td>0.000000</td>\n",
       "      <td>0.00000</td>\n",
       "      <td>12.500000</td>\n",
       "      <td>100.0000</td>\n",
       "    </tr>\n",
       "    <tr>\n",
       "      <th>INDUS</th>\n",
       "      <td>506.0</td>\n",
       "      <td>11.136779</td>\n",
       "      <td>6.860353</td>\n",
       "      <td>0.46000</td>\n",
       "      <td>5.190000</td>\n",
       "      <td>9.69000</td>\n",
       "      <td>18.100000</td>\n",
       "      <td>27.7400</td>\n",
       "    </tr>\n",
       "    <tr>\n",
       "      <th>CHAS</th>\n",
       "      <td>506.0</td>\n",
       "      <td>0.069170</td>\n",
       "      <td>0.253994</td>\n",
       "      <td>0.00000</td>\n",
       "      <td>0.000000</td>\n",
       "      <td>0.00000</td>\n",
       "      <td>0.000000</td>\n",
       "      <td>1.0000</td>\n",
       "    </tr>\n",
       "    <tr>\n",
       "      <th>NOX</th>\n",
       "      <td>506.0</td>\n",
       "      <td>0.554695</td>\n",
       "      <td>0.115878</td>\n",
       "      <td>0.38500</td>\n",
       "      <td>0.449000</td>\n",
       "      <td>0.53800</td>\n",
       "      <td>0.624000</td>\n",
       "      <td>0.8710</td>\n",
       "    </tr>\n",
       "    <tr>\n",
       "      <th>RM</th>\n",
       "      <td>506.0</td>\n",
       "      <td>6.284634</td>\n",
       "      <td>0.702617</td>\n",
       "      <td>3.56100</td>\n",
       "      <td>5.885500</td>\n",
       "      <td>6.20850</td>\n",
       "      <td>6.623500</td>\n",
       "      <td>8.7800</td>\n",
       "    </tr>\n",
       "    <tr>\n",
       "      <th>AGE</th>\n",
       "      <td>506.0</td>\n",
       "      <td>68.574901</td>\n",
       "      <td>28.148861</td>\n",
       "      <td>2.90000</td>\n",
       "      <td>45.025000</td>\n",
       "      <td>77.50000</td>\n",
       "      <td>94.075000</td>\n",
       "      <td>100.0000</td>\n",
       "    </tr>\n",
       "    <tr>\n",
       "      <th>DIS</th>\n",
       "      <td>506.0</td>\n",
       "      <td>3.795043</td>\n",
       "      <td>2.105710</td>\n",
       "      <td>1.12960</td>\n",
       "      <td>2.100175</td>\n",
       "      <td>3.20745</td>\n",
       "      <td>5.188425</td>\n",
       "      <td>12.1265</td>\n",
       "    </tr>\n",
       "    <tr>\n",
       "      <th>RAD</th>\n",
       "      <td>506.0</td>\n",
       "      <td>9.549407</td>\n",
       "      <td>8.707259</td>\n",
       "      <td>1.00000</td>\n",
       "      <td>4.000000</td>\n",
       "      <td>5.00000</td>\n",
       "      <td>24.000000</td>\n",
       "      <td>24.0000</td>\n",
       "    </tr>\n",
       "    <tr>\n",
       "      <th>TAX</th>\n",
       "      <td>506.0</td>\n",
       "      <td>408.237154</td>\n",
       "      <td>168.537116</td>\n",
       "      <td>187.00000</td>\n",
       "      <td>279.000000</td>\n",
       "      <td>330.00000</td>\n",
       "      <td>666.000000</td>\n",
       "      <td>711.0000</td>\n",
       "    </tr>\n",
       "    <tr>\n",
       "      <th>PTRATIO</th>\n",
       "      <td>506.0</td>\n",
       "      <td>18.455534</td>\n",
       "      <td>2.164946</td>\n",
       "      <td>12.60000</td>\n",
       "      <td>17.400000</td>\n",
       "      <td>19.05000</td>\n",
       "      <td>20.200000</td>\n",
       "      <td>22.0000</td>\n",
       "    </tr>\n",
       "    <tr>\n",
       "      <th>B</th>\n",
       "      <td>506.0</td>\n",
       "      <td>356.674032</td>\n",
       "      <td>91.294864</td>\n",
       "      <td>0.32000</td>\n",
       "      <td>375.377500</td>\n",
       "      <td>391.44000</td>\n",
       "      <td>396.225000</td>\n",
       "      <td>396.9000</td>\n",
       "    </tr>\n",
       "    <tr>\n",
       "      <th>LSTAT</th>\n",
       "      <td>506.0</td>\n",
       "      <td>12.653063</td>\n",
       "      <td>7.141062</td>\n",
       "      <td>1.73000</td>\n",
       "      <td>6.950000</td>\n",
       "      <td>11.36000</td>\n",
       "      <td>16.955000</td>\n",
       "      <td>37.9700</td>\n",
       "    </tr>\n",
       "    <tr>\n",
       "      <th>PRICE</th>\n",
       "      <td>506.0</td>\n",
       "      <td>22.532806</td>\n",
       "      <td>9.197104</td>\n",
       "      <td>5.00000</td>\n",
       "      <td>17.025000</td>\n",
       "      <td>21.20000</td>\n",
       "      <td>25.000000</td>\n",
       "      <td>50.0000</td>\n",
       "    </tr>\n",
       "  </tbody>\n",
       "</table>\n",
       "</div>"
      ],
      "text/plain": [
       "         count        mean         std        min         25%        50%  \\\n",
       "CRIM     506.0    3.613524    8.601545    0.00632    0.082045    0.25651   \n",
       "ZN       506.0   11.363636   23.322453    0.00000    0.000000    0.00000   \n",
       "INDUS    506.0   11.136779    6.860353    0.46000    5.190000    9.69000   \n",
       "CHAS     506.0    0.069170    0.253994    0.00000    0.000000    0.00000   \n",
       "NOX      506.0    0.554695    0.115878    0.38500    0.449000    0.53800   \n",
       "RM       506.0    6.284634    0.702617    3.56100    5.885500    6.20850   \n",
       "AGE      506.0   68.574901   28.148861    2.90000   45.025000   77.50000   \n",
       "DIS      506.0    3.795043    2.105710    1.12960    2.100175    3.20745   \n",
       "RAD      506.0    9.549407    8.707259    1.00000    4.000000    5.00000   \n",
       "TAX      506.0  408.237154  168.537116  187.00000  279.000000  330.00000   \n",
       "PTRATIO  506.0   18.455534    2.164946   12.60000   17.400000   19.05000   \n",
       "B        506.0  356.674032   91.294864    0.32000  375.377500  391.44000   \n",
       "LSTAT    506.0   12.653063    7.141062    1.73000    6.950000   11.36000   \n",
       "PRICE    506.0   22.532806    9.197104    5.00000   17.025000   21.20000   \n",
       "\n",
       "                75%       max  \n",
       "CRIM       3.677083   88.9762  \n",
       "ZN        12.500000  100.0000  \n",
       "INDUS     18.100000   27.7400  \n",
       "CHAS       0.000000    1.0000  \n",
       "NOX        0.624000    0.8710  \n",
       "RM         6.623500    8.7800  \n",
       "AGE       94.075000  100.0000  \n",
       "DIS        5.188425   12.1265  \n",
       "RAD       24.000000   24.0000  \n",
       "TAX      666.000000  711.0000  \n",
       "PTRATIO   20.200000   22.0000  \n",
       "B        396.225000  396.9000  \n",
       "LSTAT     16.955000   37.9700  \n",
       "PRICE     25.000000   50.0000  "
      ]
     },
     "execution_count": 14,
     "metadata": {},
     "output_type": "execute_result"
    }
   ],
   "source": [
    "# Viewing the data statistics\n",
    "features.describe().T"
   ]
  },
  {
   "cell_type": "code",
   "execution_count": 15,
   "id": "5e1b678d",
   "metadata": {},
   "outputs": [
    {
     "data": {
      "text/plain": [
       "CRIM       504\n",
       "ZN          26\n",
       "INDUS       76\n",
       "CHAS         2\n",
       "NOX         81\n",
       "RM         446\n",
       "AGE        356\n",
       "DIS        412\n",
       "RAD          9\n",
       "TAX         66\n",
       "PTRATIO     46\n",
       "B          357\n",
       "LSTAT      455\n",
       "PRICE      229\n",
       "dtype: int64"
      ]
     },
     "execution_count": 15,
     "metadata": {},
     "output_type": "execute_result"
    }
   ],
   "source": [
    "# Identifying the unique number of values in the dataset\n",
    "features.nunique()"
   ]
  },
  {
   "cell_type": "code",
   "execution_count": 16,
   "id": "87b607d5",
   "metadata": {},
   "outputs": [],
   "source": [
    "# preprocessing the dataset:"
   ]
  },
  {
   "cell_type": "code",
   "execution_count": 17,
   "id": "c57c8cc4",
   "metadata": {},
   "outputs": [
    {
     "name": "stdout",
     "output_type": "stream",
     "text": [
      "Null value count:   CRIM       0\n",
      "ZN         0\n",
      "INDUS      0\n",
      "CHAS       0\n",
      "NOX        0\n",
      "RM         0\n",
      "AGE        0\n",
      "DIS        0\n",
      "RAD        0\n",
      "TAX        0\n",
      "PTRATIO    0\n",
      "B          0\n",
      "LSTAT      0\n",
      "PRICE      0\n",
      "dtype: int64\n",
      "AxesSubplot(0.125,0.125;0.62x0.755)\n"
     ]
    },
    {
     "data": {
      "image/png": "[encoded data removed]",
      "text/plain": [
       "<Figure size 432x288 with 2 Axes>"
      ]
     },
     "metadata": {
      "needs_background": "light"
     },
     "output_type": "display_data"
    }
   ],
   "source": [
    "# Check for missing values\n",
    "print(\"Null value count:  \",features.isnull().sum())\n",
    "\n",
    "print(sns.heatmap(features.isnull(),yticklabels=False))"
   ]
  },
  {
   "cell_type": "code",
   "execution_count": 18,
   "id": "aa88447c",
   "metadata": {},
   "outputs": [],
   "source": [
    "# in this dataset there are no null value present so no null value tratment needed."
   ]
  },
  {
   "cell_type": "raw",
   "id": "57774693",
   "metadata": {},
   "source": [
    "From the raw training dataset above:\n",
    "(a) There are 14 variables (13 independent variables — Features and 1 dependent variable — Target Variable).\n",
    "(b) The data types are either integers or floats.\n",
    "(c) No categorical data is present.\n",
    "(d) There are no missing values in our dataset."
   ]
  },
  {
   "cell_type": "code",
   "execution_count": null,
   "id": "404240d6",
   "metadata": {},
   "outputs": [],
   "source": []
  },
  {
   "cell_type": "code",
   "execution_count": 19,
   "id": "c6b790fb",
   "metadata": {},
   "outputs": [
    {
     "data": {
      "image/png": "[encoded data removed]",
      "text/plain": [
       "<Figure size 1440x1800 with 14 Axes>"
      ]
     },
     "metadata": {},
     "output_type": "display_data"
    }
   ],
   "source": [
    "# let's see how data is distributed for every column\n",
    "plt.figure(figsize=(20,25), facecolor='white')\n",
    "plotnumber = 1\n",
    "\n",
    "for column in features:\n",
    "    if plotnumber<=14 :\n",
    "        ax = plt.subplot(4,4,plotnumber)\n",
    "        sns.distplot(features[column])\n",
    "        plt.xlabel(column,fontsize=20)\n",
    "        \n",
    "    plotnumber+=1\n",
    "plt.tight_layout()"
   ]
  },
  {
   "cell_type": "raw",
   "id": "b1360a5e",
   "metadata": {},
   "source": [
    "As part of EDA, we will first try to determine the distribution of the dependent variable (PRICE).\n",
    "#Plot the distribution of PRICE"
   ]
  },
  {
   "cell_type": "code",
   "execution_count": 20,
   "id": "f599b882",
   "metadata": {},
   "outputs": [
    {
     "data": {
      "text/plain": [
       "<AxesSubplot:xlabel='PRICE', ylabel='Density'>"
      ]
     },
     "execution_count": 20,
     "metadata": {},
     "output_type": "execute_result"
    },
    {
     "data": {
      "image/png": "[encoded data removed]",
      "text/plain": [
       "<Figure size 720x432 with 1 Axes>"
      ]
     },
     "metadata": {
      "needs_background": "light"
     },
     "output_type": "display_data"
    }
   ],
   "source": [
    " \n",
    "plt.figure(figsize=(10, 6))\n",
    "sns.distplot(features['PRICE'],bins=30)"
   ]
  },
  {
   "cell_type": "code",
   "execution_count": 21,
   "id": "8572dfc2",
   "metadata": {},
   "outputs": [
    {
     "data": {
      "text/plain": [
       "22.532806324110698"
      ]
     },
     "execution_count": 21,
     "metadata": {},
     "output_type": "execute_result"
    }
   ],
   "source": [
    "# Most right skewed distributions you come across in elementary statistics will have the mean to the right of the median.\n",
    "# Positive skewed\n",
    "\n",
    "features['PRICE'].mean()"
   ]
  },
  {
   "cell_type": "code",
   "execution_count": 22,
   "id": "6ff72471",
   "metadata": {},
   "outputs": [
    {
     "data": {
      "text/plain": [
       "21.2"
      ]
     },
     "execution_count": 22,
     "metadata": {},
     "output_type": "execute_result"
    }
   ],
   "source": [
    "features['PRICE'].median()"
   ]
  },
  {
   "cell_type": "code",
   "execution_count": 23,
   "id": "247a42a7",
   "metadata": {},
   "outputs": [
    {
     "data": {
      "text/plain": [
       "0    50.0\n",
       "dtype: float64"
      ]
     },
     "execution_count": 23,
     "metadata": {},
     "output_type": "execute_result"
    }
   ],
   "source": [
    "features['PRICE'].mode()"
   ]
  },
  {
   "cell_type": "markdown",
   "id": "cc5715b0",
   "metadata": {},
   "source": [
    "The values of PRICE follows a normal distribution with a mean of around 22. There are some outliers to the right.\n",
    "\n",
    "A right-skewed distribution has a long right tail. Right-skewed distributions are also called positive-skew distributions. "
   ]
  },
  {
   "cell_type": "code",
   "execution_count": null,
   "id": "a02a0d07",
   "metadata": {},
   "outputs": [],
   "source": []
  },
  {
   "cell_type": "code",
   "execution_count": null,
   "id": "0affb0ae",
   "metadata": {},
   "outputs": [],
   "source": []
  },
  {
   "cell_type": "markdown",
   "id": "e9855b86",
   "metadata": {},
   "source": [
    "Random Forests are not sensitive to outliers (in the way that Logistic Regression and other ML methods are, for example).\n",
    "\n",
    "\n",
    "\n",
    "However, two pieces of intuition tell me otherwise:\n",
    "\n",
    "Whenever a decision tree is constructed, all of the points must be classified. This means that even outliers will get classified, and hence will affect the decision trees where they were selected during boosting.\n",
    "\n",
    "Bootstrapping is a part of how a RandomForest does sub-sampling. Bootstrapping is susceptible to outliers."
   ]
  },
  {
   "cell_type": "code",
   "execution_count": null,
   "id": "3f0bcb03",
   "metadata": {},
   "outputs": [],
   "source": []
  },
  {
   "cell_type": "markdown",
   "id": "ee33bc73",
   "metadata": {},
   "source": [
    "The averaging makes a Random Forest better than a single Decision Tree hence improves its accuracy and reduces overfitting. A prediction from the Random Forest Regressor is an average of the predictions produced by the trees in the forest."
   ]
  },
  {
   "cell_type": "code",
   "execution_count": 24,
   "id": "7df20fba",
   "metadata": {},
   "outputs": [
    {
     "data": {
      "image/png": "[encoded data removed]",
      "text/plain": [
       "<Figure size 1440x1440 with 1 Axes>"
      ]
     },
     "metadata": {
      "needs_background": "light"
     },
     "output_type": "display_data"
    }
   ],
   "source": [
    "fig , ax = plt.subplots(figsize=(20,20))\n",
    "sns.boxplot(data= features, ax = ax)\n",
    "plt.show()"
   ]
  },
  {
   "cell_type": "markdown",
   "id": "0e0efbd0",
   "metadata": {},
   "source": [
    "### Do outliers affect Random Forest?\n",
    "\n",
    "Also, output outliers will affect the estimate of the leaf node they are in, but not the values of any other leaf node. So output outliers have a “quarantined” effect. Thus, outliers that would wildly distort the accuracy of some algorithms have less of an effect on the prediction of a Random Forest.\n",
    "\n",
    "\n",
    "### Should you remove outliers for Random Forest?\n",
    "\n",
    "For this dataset, the target variable is right skewed. Because of this, log-transformation works better than removing outliers. Hence we should always try to transform the data first rather than remove it. Clearly, Random Forest is not affected by outliers because after removing the outliers, RMSE increased.\n",
    "\n",
    "### Can Random Forests handle missing data?\n",
    "\n",
    "Random forest does handle missing data and there are two distinct ways it does so:\n",
    "\n",
    "1) Without imputation of missing data, but providing inference.\n",
    "\n",
    "2) Imputing the data. Imputed data is then used for inference."
   ]
  },
  {
   "cell_type": "code",
   "execution_count": 25,
   "id": "3ea18f2f",
   "metadata": {},
   "outputs": [],
   "source": [
    "def plotvarible(df, variable):\n",
    "    plt.figure(figsize=(16,4))\n",
    "    \n",
    "    #Histogram\n",
    "    \n",
    "    plt.subplot(1,2,1)\n",
    "    plt.hist(df[variable],alpha=0.5)\n",
    "    \n",
    "    #boxplot\n",
    "    \n",
    "    plt.subplot(1,2,2)\n",
    "    plt.boxplot(df[variable])\n",
    "    plt.show()"
   ]
  },
  {
   "cell_type": "code",
   "execution_count": 26,
   "id": "0a6f9ede",
   "metadata": {},
   "outputs": [
    {
     "data": {
      "image/png": "[encoded data removed]",
      "text/plain": [
       "<Figure size 1152x288 with 2 Axes>"
      ]
     },
     "metadata": {
      "needs_background": "light"
     },
     "output_type": "display_data"
    }
   ],
   "source": [
    "plotvarible(features, \"ZN\")"
   ]
  },
  {
   "cell_type": "code",
   "execution_count": null,
   "id": "4801ede3",
   "metadata": {},
   "outputs": [],
   "source": []
  },
  {
   "cell_type": "code",
   "execution_count": 27,
   "id": "284a5c12",
   "metadata": {},
   "outputs": [],
   "source": [
    "# Feature Selction"
   ]
  },
  {
   "cell_type": "code",
   "execution_count": 28,
   "id": "c8f8337e",
   "metadata": {},
   "outputs": [
    {
     "data": {
      "text/html": [
       "<div>\n",
       "<style scoped>\n",
       "    .dataframe tbody tr th:only-of-type {\n",
       "        vertical-align: middle;\n",
       "    }\n",
       "\n",
       "    .dataframe tbody tr th {\n",
       "        vertical-align: top;\n",
       "    }\n",
       "\n",
       "    .dataframe thead th {\n",
       "        text-align: right;\n",
       "    }\n",
       "</style>\n",
       "<table border=\"1\" class=\"dataframe\">\n",
       "  <thead>\n",
       "    <tr style=\"text-align: right;\">\n",
       "      <th></th>\n",
       "      <th>CRIM</th>\n",
       "      <th>ZN</th>\n",
       "      <th>INDUS</th>\n",
       "      <th>CHAS</th>\n",
       "      <th>NOX</th>\n",
       "      <th>RM</th>\n",
       "      <th>AGE</th>\n",
       "      <th>DIS</th>\n",
       "      <th>RAD</th>\n",
       "      <th>TAX</th>\n",
       "      <th>PTRATIO</th>\n",
       "      <th>B</th>\n",
       "      <th>LSTAT</th>\n",
       "      <th>PRICE</th>\n",
       "    </tr>\n",
       "  </thead>\n",
       "  <tbody>\n",
       "    <tr>\n",
       "      <th>CRIM</th>\n",
       "      <td>1.000000</td>\n",
       "      <td>-0.200469</td>\n",
       "      <td>0.406583</td>\n",
       "      <td>-0.055892</td>\n",
       "      <td>0.420972</td>\n",
       "      <td>-0.219247</td>\n",
       "      <td>0.352734</td>\n",
       "      <td>-0.379670</td>\n",
       "      <td>0.625505</td>\n",
       "      <td>0.582764</td>\n",
       "      <td>0.289946</td>\n",
       "      <td>-0.385064</td>\n",
       "      <td>0.455621</td>\n",
       "      <td>-0.388305</td>\n",
       "    </tr>\n",
       "    <tr>\n",
       "      <th>ZN</th>\n",
       "      <td>-0.200469</td>\n",
       "      <td>1.000000</td>\n",
       "      <td>-0.533828</td>\n",
       "      <td>-0.042697</td>\n",
       "      <td>-0.516604</td>\n",
       "      <td>0.311991</td>\n",
       "      <td>-0.569537</td>\n",
       "      <td>0.664408</td>\n",
       "      <td>-0.311948</td>\n",
       "      <td>-0.314563</td>\n",
       "      <td>-0.391679</td>\n",
       "      <td>0.175520</td>\n",
       "      <td>-0.412995</td>\n",
       "      <td>0.360445</td>\n",
       "    </tr>\n",
       "    <tr>\n",
       "      <th>INDUS</th>\n",
       "      <td>0.406583</td>\n",
       "      <td>-0.533828</td>\n",
       "      <td>1.000000</td>\n",
       "      <td>0.062938</td>\n",
       "      <td>0.763651</td>\n",
       "      <td>-0.391676</td>\n",
       "      <td>0.644779</td>\n",
       "      <td>-0.708027</td>\n",
       "      <td>0.595129</td>\n",
       "      <td>0.720760</td>\n",
       "      <td>0.383248</td>\n",
       "      <td>-0.356977</td>\n",
       "      <td>0.603800</td>\n",
       "      <td>-0.483725</td>\n",
       "    </tr>\n",
       "    <tr>\n",
       "      <th>CHAS</th>\n",
       "      <td>-0.055892</td>\n",
       "      <td>-0.042697</td>\n",
       "      <td>0.062938</td>\n",
       "      <td>1.000000</td>\n",
       "      <td>0.091203</td>\n",
       "      <td>0.091251</td>\n",
       "      <td>0.086518</td>\n",
       "      <td>-0.099176</td>\n",
       "      <td>-0.007368</td>\n",
       "      <td>-0.035587</td>\n",
       "      <td>-0.121515</td>\n",
       "      <td>0.048788</td>\n",
       "      <td>-0.053929</td>\n",
       "      <td>0.175260</td>\n",
       "    </tr>\n",
       "    <tr>\n",
       "      <th>NOX</th>\n",
       "      <td>0.420972</td>\n",
       "      <td>-0.516604</td>\n",
       "      <td>0.763651</td>\n",
       "      <td>0.091203</td>\n",
       "      <td>1.000000</td>\n",
       "      <td>-0.302188</td>\n",
       "      <td>0.731470</td>\n",
       "      <td>-0.769230</td>\n",
       "      <td>0.611441</td>\n",
       "      <td>0.668023</td>\n",
       "      <td>0.188933</td>\n",
       "      <td>-0.380051</td>\n",
       "      <td>0.590879</td>\n",
       "      <td>-0.427321</td>\n",
       "    </tr>\n",
       "    <tr>\n",
       "      <th>RM</th>\n",
       "      <td>-0.219247</td>\n",
       "      <td>0.311991</td>\n",
       "      <td>-0.391676</td>\n",
       "      <td>0.091251</td>\n",
       "      <td>-0.302188</td>\n",
       "      <td>1.000000</td>\n",
       "      <td>-0.240265</td>\n",
       "      <td>0.205246</td>\n",
       "      <td>-0.209847</td>\n",
       "      <td>-0.292048</td>\n",
       "      <td>-0.355501</td>\n",
       "      <td>0.128069</td>\n",
       "      <td>-0.613808</td>\n",
       "      <td>0.695360</td>\n",
       "    </tr>\n",
       "    <tr>\n",
       "      <th>AGE</th>\n",
       "      <td>0.352734</td>\n",
       "      <td>-0.569537</td>\n",
       "      <td>0.644779</td>\n",
       "      <td>0.086518</td>\n",
       "      <td>0.731470</td>\n",
       "      <td>-0.240265</td>\n",
       "      <td>1.000000</td>\n",
       "      <td>-0.747881</td>\n",
       "      <td>0.456022</td>\n",
       "      <td>0.506456</td>\n",
       "      <td>0.261515</td>\n",
       "      <td>-0.273534</td>\n",
       "      <td>0.602339</td>\n",
       "      <td>-0.376955</td>\n",
       "    </tr>\n",
       "    <tr>\n",
       "      <th>DIS</th>\n",
       "      <td>-0.379670</td>\n",
       "      <td>0.664408</td>\n",
       "      <td>-0.708027</td>\n",
       "      <td>-0.099176</td>\n",
       "      <td>-0.769230</td>\n",
       "      <td>0.205246</td>\n",
       "      <td>-0.747881</td>\n",
       "      <td>1.000000</td>\n",
       "      <td>-0.494588</td>\n",
       "      <td>-0.534432</td>\n",
       "      <td>-0.232471</td>\n",
       "      <td>0.291512</td>\n",
       "      <td>-0.496996</td>\n",
       "      <td>0.249929</td>\n",
       "    </tr>\n",
       "    <tr>\n",
       "      <th>RAD</th>\n",
       "      <td>0.625505</td>\n",
       "      <td>-0.311948</td>\n",
       "      <td>0.595129</td>\n",
       "      <td>-0.007368</td>\n",
       "      <td>0.611441</td>\n",
       "      <td>-0.209847</td>\n",
       "      <td>0.456022</td>\n",
       "      <td>-0.494588</td>\n",
       "      <td>1.000000</td>\n",
       "      <td>0.910228</td>\n",
       "      <td>0.464741</td>\n",
       "      <td>-0.444413</td>\n",
       "      <td>0.488676</td>\n",
       "      <td>-0.381626</td>\n",
       "    </tr>\n",
       "    <tr>\n",
       "      <th>TAX</th>\n",
       "      <td>0.582764</td>\n",
       "      <td>-0.314563</td>\n",
       "      <td>0.720760</td>\n",
       "      <td>-0.035587</td>\n",
       "      <td>0.668023</td>\n",
       "      <td>-0.292048</td>\n",
       "      <td>0.506456</td>\n",
       "      <td>-0.534432</td>\n",
       "      <td>0.910228</td>\n",
       "      <td>1.000000</td>\n",
       "      <td>0.460853</td>\n",
       "      <td>-0.441808</td>\n",
       "      <td>0.543993</td>\n",
       "      <td>-0.468536</td>\n",
       "    </tr>\n",
       "    <tr>\n",
       "      <th>PTRATIO</th>\n",
       "      <td>0.289946</td>\n",
       "      <td>-0.391679</td>\n",
       "      <td>0.383248</td>\n",
       "      <td>-0.121515</td>\n",
       "      <td>0.188933</td>\n",
       "      <td>-0.355501</td>\n",
       "      <td>0.261515</td>\n",
       "      <td>-0.232471</td>\n",
       "      <td>0.464741</td>\n",
       "      <td>0.460853</td>\n",
       "      <td>1.000000</td>\n",
       "      <td>-0.177383</td>\n",
       "      <td>0.374044</td>\n",
       "      <td>-0.507787</td>\n",
       "    </tr>\n",
       "    <tr>\n",
       "      <th>B</th>\n",
       "      <td>-0.385064</td>\n",
       "      <td>0.175520</td>\n",
       "      <td>-0.356977</td>\n",
       "      <td>0.048788</td>\n",
       "      <td>-0.380051</td>\n",
       "      <td>0.128069</td>\n",
       "      <td>-0.273534</td>\n",
       "      <td>0.291512</td>\n",
       "      <td>-0.444413</td>\n",
       "      <td>-0.441808</td>\n",
       "      <td>-0.177383</td>\n",
       "      <td>1.000000</td>\n",
       "      <td>-0.366087</td>\n",
       "      <td>0.333461</td>\n",
       "    </tr>\n",
       "    <tr>\n",
       "      <th>LSTAT</th>\n",
       "      <td>0.455621</td>\n",
       "      <td>-0.412995</td>\n",
       "      <td>0.603800</td>\n",
       "      <td>-0.053929</td>\n",
       "      <td>0.590879</td>\n",
       "      <td>-0.613808</td>\n",
       "      <td>0.602339</td>\n",
       "      <td>-0.496996</td>\n",
       "      <td>0.488676</td>\n",
       "      <td>0.543993</td>\n",
       "      <td>0.374044</td>\n",
       "      <td>-0.366087</td>\n",
       "      <td>1.000000</td>\n",
       "      <td>-0.737663</td>\n",
       "    </tr>\n",
       "    <tr>\n",
       "      <th>PRICE</th>\n",
       "      <td>-0.388305</td>\n",
       "      <td>0.360445</td>\n",
       "      <td>-0.483725</td>\n",
       "      <td>0.175260</td>\n",
       "      <td>-0.427321</td>\n",
       "      <td>0.695360</td>\n",
       "      <td>-0.376955</td>\n",
       "      <td>0.249929</td>\n",
       "      <td>-0.381626</td>\n",
       "      <td>-0.468536</td>\n",
       "      <td>-0.507787</td>\n",
       "      <td>0.333461</td>\n",
       "      <td>-0.737663</td>\n",
       "      <td>1.000000</td>\n",
       "    </tr>\n",
       "  </tbody>\n",
       "</table>\n",
       "</div>"
      ],
      "text/plain": [
       "             CRIM        ZN     INDUS      CHAS       NOX        RM       AGE  \\\n",
       "CRIM     1.000000 -0.200469  0.406583 -0.055892  0.420972 -0.219247  0.352734   \n",
       "ZN      -0.200469  1.000000 -0.533828 -0.042697 -0.516604  0.311991 -0.569537   \n",
       "INDUS    0.406583 -0.533828  1.000000  0.062938  0.763651 -0.391676  0.644779   \n",
       "CHAS    -0.055892 -0.042697  0.062938  1.000000  0.091203  0.091251  0.086518   \n",
       "NOX      0.420972 -0.516604  0.763651  0.091203  1.000000 -0.302188  0.731470   \n",
       "RM      -0.219247  0.311991 -0.391676  0.091251 -0.302188  1.000000 -0.240265   \n",
       "AGE      0.352734 -0.569537  0.644779  0.086518  0.731470 -0.240265  1.000000   \n",
       "DIS     -0.379670  0.664408 -0.708027 -0.099176 -0.769230  0.205246 -0.747881   \n",
       "RAD      0.625505 -0.311948  0.595129 -0.007368  0.611441 -0.209847  0.456022   \n",
       "TAX      0.582764 -0.314563  0.720760 -0.035587  0.668023 -0.292048  0.506456   \n",
       "PTRATIO  0.289946 -0.391679  0.383248 -0.121515  0.188933 -0.355501  0.261515   \n",
       "B       -0.385064  0.175520 -0.356977  0.048788 -0.380051  0.128069 -0.273534   \n",
       "LSTAT    0.455621 -0.412995  0.603800 -0.053929  0.590879 -0.613808  0.602339   \n",
       "PRICE   -0.388305  0.360445 -0.483725  0.175260 -0.427321  0.695360 -0.376955   \n",
       "\n",
       "              DIS       RAD       TAX   PTRATIO         B     LSTAT     PRICE  \n",
       "CRIM    -0.379670  0.625505  0.582764  0.289946 -0.385064  0.455621 -0.388305  \n",
       "ZN       0.664408 -0.311948 -0.314563 -0.391679  0.175520 -0.412995  0.360445  \n",
       "INDUS   -0.708027  0.595129  0.720760  0.383248 -0.356977  0.603800 -0.483725  \n",
       "CHAS    -0.099176 -0.007368 -0.035587 -0.121515  0.048788 -0.053929  0.175260  \n",
       "NOX     -0.769230  0.611441  0.668023  0.188933 -0.380051  0.590879 -0.427321  \n",
       "RM       0.205246 -0.209847 -0.292048 -0.355501  0.128069 -0.613808  0.695360  \n",
       "AGE     -0.747881  0.456022  0.506456  0.261515 -0.273534  0.602339 -0.376955  \n",
       "DIS      1.000000 -0.494588 -0.534432 -0.232471  0.291512 -0.496996  0.249929  \n",
       "RAD     -0.494588  1.000000  0.910228  0.464741 -0.444413  0.488676 -0.381626  \n",
       "TAX     -0.534432  0.910228  1.000000  0.460853 -0.441808  0.543993 -0.468536  \n",
       "PTRATIO -0.232471  0.464741  0.460853  1.000000 -0.177383  0.374044 -0.507787  \n",
       "B        0.291512 -0.444413 -0.441808 -0.177383  1.000000 -0.366087  0.333461  \n",
       "LSTAT   -0.496996  0.488676  0.543993  0.374044 -0.366087  1.000000 -0.737663  \n",
       "PRICE    0.249929 -0.381626 -0.468536 -0.507787  0.333461 -0.737663  1.000000  "
      ]
     },
     "execution_count": 28,
     "metadata": {},
     "output_type": "execute_result"
    }
   ],
   "source": [
    "# Finding out the correlation between the features\n",
    "corr = features.corr()\n",
    "corr"
   ]
  },
  {
   "cell_type": "markdown",
   "id": "361e9167",
   "metadata": {},
   "source": [
    "### Next, try to determine if there are any correlations between:\n",
    "\n",
    "(i) the independent variables themselves\n",
    "\n",
    "(ii) the independent variables and dependent variable"
   ]
  },
  {
   "cell_type": "code",
   "execution_count": 29,
   "id": "56d06374",
   "metadata": {},
   "outputs": [
    {
     "data": {
      "text/plain": [
       "<AxesSubplot:>"
      ]
     },
     "execution_count": 29,
     "metadata": {},
     "output_type": "execute_result"
    },
    {
     "data": {
      "image/png": "[encoded data removed]",
      "text/plain": [
       "<Figure size 1440x1440 with 2 Axes>"
      ]
     },
     "metadata": {
      "needs_background": "light"
     },
     "output_type": "display_data"
    }
   ],
   "source": [
    "# Plotting the heatmap of correlation between features\n",
    "plt.figure(figsize=(20,20))\n",
    "sns.heatmap(corr, cbar=True, square= True, fmt='.1f', annot=True, annot_kws={'size':15})"
   ]
  },
  {
   "cell_type": "markdown",
   "id": "29c01cbf",
   "metadata": {},
   "source": [
    "### (i) Correlation between independent variables:\n",
    "\n",
    "We would need to look out for features of multi-collinearity \n",
    "\n",
    "(i.e. features that are correlated with each other)as this will affect our relationship with the independent variable.\n",
    "\n",
    "\n",
    "Observe that RAD and TAX are highly correlated with each other (Correlation score: 0.90,(positive)) and \n",
    "Nox and DIS (Correlation score: -0.80, (negative)).\n",
    "\n",
    "\n",
    "\n",
    "while there are a couple of features which are somewhat correlated with one another with a correlation score of around 0.70 or 0.60\n",
    "\n",
    "(INDUS and TAX(Correlation score: 0.7) ,\n",
    "\n",
    "INDUS and RAD(Correlation score: 0.6),\n",
    "\n",
    "NOX and INDUS(Correlation score: 0.6), \n",
    "\n",
    "AGE and DIS(Correlation score: -0.70),\n",
    "\n",
    "AGE and INDUS(Correlation score: 0.60)."
   ]
  },
  {
   "cell_type": "code",
   "execution_count": null,
   "id": "00ed0af9",
   "metadata": {},
   "outputs": [],
   "source": []
  },
  {
   "cell_type": "markdown",
   "id": "d529bc79",
   "metadata": {},
   "source": [
    "#### (ii) Correlation between independent variable and dependent variable:\n",
    "    \n",
    "In order for our regression model to perform well, we ideally need to select those features that are highly correlated with our dependent variable (PRICE).\n",
    "\n",
    "\n",
    "We observe that both RM and LSTAT are correlated with PRICE with a correlation score of 0.60 and 0.70 respective. This can also be illustrated via the scatter plot ."
   ]
  },
  {
   "cell_type": "code",
   "execution_count": 30,
   "id": "5ab05db8",
   "metadata": {},
   "outputs": [
    {
     "data": {
      "text/plain": [
       "Text(0, 0.5, 'PRICE')"
      ]
     },
     "execution_count": 30,
     "metadata": {},
     "output_type": "execute_result"
    },
    {
     "data": {
      "image/png": "[encoded data removed]",
      "text/plain": [
       "<Figure size 432x288 with 1 Axes>"
      ]
     },
     "metadata": {
      "needs_background": "light"
     },
     "output_type": "display_data"
    },
    {
     "data": {
      "image/png": "[encoded data removed]",
      "text/plain": [
       "<Figure size 432x288 with 1 Axes>"
      ]
     },
     "metadata": {
      "needs_background": "light"
     },
     "output_type": "display_data"
    }
   ],
   "source": [
    "#Scatter plot to observe the correlations between the features that are highly correlated with PRICE\n",
    "\n",
    "\n",
    "target_var = features['PRICE']\n",
    "\n",
    "plot1 = plt.figure(1)\n",
    "\n",
    "plt.scatter(features['RM'],target_var)\n",
    "\n",
    "plt.xlabel('RM')\n",
    "plt.ylabel('PRICE')\n",
    "\n",
    "plot2 = plt.figure(2)\n",
    "plt.scatter(features['LSTAT'],target_var)\n",
    "\n",
    "plt.xlabel('LSTAT')\n",
    "\n",
    "plt.ylabel('PRICE')"
   ]
  },
  {
   "cell_type": "markdown",
   "id": "d8605aa0",
   "metadata": {},
   "source": [
    "# In this above figure: \n",
    "\n",
    "the first figure plotted between dependent(PRICE) and independent(RM) sholud have postive corelation between then because in that case it will define that when RM increase price also increase.(A positive correlation exists when two variables move in the same direction as one another.)\n",
    "    \n",
    "    \n",
    "    \n",
    "but in second figure plotted between dependent(PRICE) and independent(LAST) sholud have negative corelation between then because in that case it will define that when LSTAT increase price also decrease.(A negative, or inverse correlation, between two variables, indicates that one variable increases while the other decreases, and vice-versa.)\n",
    "    \n",
    "    \n",
    "From the scatter plot above:\n",
    "\n",
    "i) PRICE increases linearly with the RM. This makes sense as we would expect the median price of a house would be more generally more expensive as the number of rooms increases.\n",
    "\n",
    "\n",
    "ii) PRICE decreases linearly with LSTAT. This also makes sense since we can expect the median price of a house would generally be less expensive at places of lower status.    \n",
    "    \n",
    "    \n",
    "    "
   ]
  },
  {
   "cell_type": "code",
   "execution_count": null,
   "id": "61ded21f",
   "metadata": {},
   "outputs": [],
   "source": []
  },
  {
   "cell_type": "markdown",
   "id": "35bb63fc",
   "metadata": {},
   "source": [
    "# Step : Creating a base model\n",
    "    \n",
    "    \n",
    "Before we create our base Random Forest Model, it very important to pick a suitable evaluation metric.\n",
    "\n",
    "\n",
    "1.Picking the right evaluation metric\n",
    "\n",
    "Picking the right evaluation metric will help us to evaluate whether our model’s performance is good. For regression problems, the go-to evaluation metric is either Root Mean Square Error(RMSE) or Root Mean Square Logistic Error (RMLSE).\n",
    "RMSE: It is a measure of the squared difference between the prediction from our model and the actual value.\n",
    "\n",
    "\n",
    "####  Root Mean Square Error formula: √[ Σ(y_actual_i – y_predicted_i)**2 / N ]\n",
    "\n",
    "    \n",
    "\n",
    "\n",
    "where:\n",
    "    Σ is a fancy symbol that means “sum”\n",
    "    y_predicted: predicted value,\n",
    "    y_actual: actual value\n",
    "    n is the sample size\n",
    "\n",
    "RMSLE: It is a measure of the squared difference between the log of the prediction from our model and the log of the actual value.\n",
    "\n",
    "#### Root Mean Square Logistic Error: √[ Σ(log(y_actual_i+1) – log(y_predicted_i+1)) / N ]\n",
    "\n",
    "where\n",
    "\n",
    "    y_predicted: predicted value, \n",
    "    y_actual: actual value\n",
    "The RMSLE might be a better evaluation metric as \n",
    "\n",
    "(1) it is robust enough to deal with outliers, which we saw is present in our dataset \n",
    "\n",
    "(2) RMSLE incurs a larger penalty for underestimation of the actual value. \n",
    "\n",
    "If we put ourselves in the sellers perspective, we do not want to underestimate the price as it would result in losses. However, for this project we shall not take anyone’s side and shall choose the RMSE as the evaluation metric as we would be using the Random Forest model which is immune to outliers."
   ]
  },
  {
   "cell_type": "code",
   "execution_count": null,
   "id": "f4ba931b",
   "metadata": {},
   "outputs": [],
   "source": []
  },
  {
   "cell_type": "markdown",
   "id": "bfd889d3",
   "metadata": {},
   "source": [
    "#### Creating our base Random Forest Model: (base model is decison tree)\n",
    "\n",
    "    The next step would be to create a base model first without any feature engineering and hyperparameter tuning. We would use this model’s performance as a benchmark for comparison later on after we have done feature engineering and hyperparameter tuning later.\n",
    "\n",
    "The machine learning model we have chosen is the Random Forest Regression Model and here is why:\n",
    "\n",
    "    1.Random Forests models require minimal data preparation.\n",
    "    It is able to easily hand categorical, numerical and binary features without scaling or normalization required.\n",
    "\n",
    "    2.Random Forests models can help us in performing implicit feature selections as they provide good indicators of the important features.\n",
    "\n",
    "    3.Random Forest models are immune to outliers, which is present in our data, and they completely ignore statistical issues because unlike other machine learning models which perform much better after being normalized.\n"
   ]
  },
  {
   "cell_type": "code",
   "execution_count": 31,
   "id": "ad5bca2c",
   "metadata": {},
   "outputs": [],
   "source": [
    "# sklearn lib. \n",
    "\n",
    "from sklearn.ensemble import RandomForestRegressor\n",
    "\n",
    "from IPython.display import display\n",
    "\n",
    "from sklearn import metrics\n",
    "\n",
    "from sklearn.model_selection import GridSearchCV\n",
    "\n",
    "from IPython.display import Image  \n",
    "\n",
    "from sklearn.tree import export_graphviz\n",
    "\n",
    "import pydotplus\n",
    "\n",
    "from sklearn import tree\n",
    "\n",
    "from sklearn.model_selection import train_test_split,GridSearchCV\n",
    "\n",
    "from sklearn.metrics import mean_squared_error,mean_absolute_error,r2_score\n",
    "\n",
    "from sklearn.model_selection import RandomizedSearchCV\n",
    "\n",
    "from sklearn import tree\n"
   ]
  },
  {
   "cell_type": "code",
   "execution_count": null,
   "id": "a0a3d342",
   "metadata": {},
   "outputs": [],
   "source": []
  },
  {
   "cell_type": "markdown",
   "id": "04d24fde",
   "metadata": {},
   "source": [
    "### Define X axis and Y axis value"
   ]
  },
  {
   "cell_type": "code",
   "execution_count": 32,
   "id": "8667040e",
   "metadata": {},
   "outputs": [],
   "source": [
    "X = features.drop(columns = 'PRICE')\n",
    "y = features['PRICE']"
   ]
  },
  {
   "cell_type": "code",
   "execution_count": 35,
   "id": "c8a9805e",
   "metadata": {},
   "outputs": [
    {
     "data": {
      "text/html": [
       "<div>\n",
       "<style scoped>\n",
       "    .dataframe tbody tr th:only-of-type {\n",
       "        vertical-align: middle;\n",
       "    }\n",
       "\n",
       "    .dataframe tbody tr th {\n",
       "        vertical-align: top;\n",
       "    }\n",
       "\n",
       "    .dataframe thead th {\n",
       "        text-align: right;\n",
       "    }\n",
       "</style>\n",
       "<table border=\"1\" class=\"dataframe\">\n",
       "  <thead>\n",
       "    <tr style=\"text-align: right;\">\n",
       "      <th></th>\n",
       "      <th>CRIM</th>\n",
       "      <th>ZN</th>\n",
       "      <th>INDUS</th>\n",
       "      <th>CHAS</th>\n",
       "      <th>NOX</th>\n",
       "      <th>RM</th>\n",
       "      <th>AGE</th>\n",
       "      <th>DIS</th>\n",
       "      <th>RAD</th>\n",
       "      <th>TAX</th>\n",
       "      <th>PTRATIO</th>\n",
       "      <th>B</th>\n",
       "      <th>LSTAT</th>\n",
       "    </tr>\n",
       "  </thead>\n",
       "  <tbody>\n",
       "    <tr>\n",
       "      <th>0</th>\n",
       "      <td>0.00632</td>\n",
       "      <td>18.0</td>\n",
       "      <td>2.31</td>\n",
       "      <td>0.0</td>\n",
       "      <td>0.538</td>\n",
       "      <td>6.575</td>\n",
       "      <td>65.2</td>\n",
       "      <td>4.0900</td>\n",
       "      <td>1.0</td>\n",
       "      <td>296.0</td>\n",
       "      <td>15.3</td>\n",
       "      <td>396.90</td>\n",
       "      <td>4.98</td>\n",
       "    </tr>\n",
       "    <tr>\n",
       "      <th>1</th>\n",
       "      <td>0.02731</td>\n",
       "      <td>0.0</td>\n",
       "      <td>7.07</td>\n",
       "      <td>0.0</td>\n",
       "      <td>0.469</td>\n",
       "      <td>6.421</td>\n",
       "      <td>78.9</td>\n",
       "      <td>4.9671</td>\n",
       "      <td>2.0</td>\n",
       "      <td>242.0</td>\n",
       "      <td>17.8</td>\n",
       "      <td>396.90</td>\n",
       "      <td>9.14</td>\n",
       "    </tr>\n",
       "    <tr>\n",
       "      <th>2</th>\n",
       "      <td>0.02729</td>\n",
       "      <td>0.0</td>\n",
       "      <td>7.07</td>\n",
       "      <td>0.0</td>\n",
       "      <td>0.469</td>\n",
       "      <td>7.185</td>\n",
       "      <td>61.1</td>\n",
       "      <td>4.9671</td>\n",
       "      <td>2.0</td>\n",
       "      <td>242.0</td>\n",
       "      <td>17.8</td>\n",
       "      <td>392.83</td>\n",
       "      <td>4.03</td>\n",
       "    </tr>\n",
       "    <tr>\n",
       "      <th>3</th>\n",
       "      <td>0.03237</td>\n",
       "      <td>0.0</td>\n",
       "      <td>2.18</td>\n",
       "      <td>0.0</td>\n",
       "      <td>0.458</td>\n",
       "      <td>6.998</td>\n",
       "      <td>45.8</td>\n",
       "      <td>6.0622</td>\n",
       "      <td>3.0</td>\n",
       "      <td>222.0</td>\n",
       "      <td>18.7</td>\n",
       "      <td>394.63</td>\n",
       "      <td>2.94</td>\n",
       "    </tr>\n",
       "    <tr>\n",
       "      <th>4</th>\n",
       "      <td>0.06905</td>\n",
       "      <td>0.0</td>\n",
       "      <td>2.18</td>\n",
       "      <td>0.0</td>\n",
       "      <td>0.458</td>\n",
       "      <td>7.147</td>\n",
       "      <td>54.2</td>\n",
       "      <td>6.0622</td>\n",
       "      <td>3.0</td>\n",
       "      <td>222.0</td>\n",
       "      <td>18.7</td>\n",
       "      <td>396.90</td>\n",
       "      <td>5.33</td>\n",
       "    </tr>\n",
       "  </tbody>\n",
       "</table>\n",
       "</div>"
      ],
      "text/plain": [
       "      CRIM    ZN  INDUS  CHAS    NOX     RM   AGE     DIS  RAD    TAX  \\\n",
       "0  0.00632  18.0   2.31   0.0  0.538  6.575  65.2  4.0900  1.0  296.0   \n",
       "1  0.02731   0.0   7.07   0.0  0.469  6.421  78.9  4.9671  2.0  242.0   \n",
       "2  0.02729   0.0   7.07   0.0  0.469  7.185  61.1  4.9671  2.0  242.0   \n",
       "3  0.03237   0.0   2.18   0.0  0.458  6.998  45.8  6.0622  3.0  222.0   \n",
       "4  0.06905   0.0   2.18   0.0  0.458  7.147  54.2  6.0622  3.0  222.0   \n",
       "\n",
       "   PTRATIO       B  LSTAT  \n",
       "0     15.3  396.90   4.98  \n",
       "1     17.8  396.90   9.14  \n",
       "2     17.8  392.83   4.03  \n",
       "3     18.7  394.63   2.94  \n",
       "4     18.7  396.90   5.33  "
      ]
     },
     "execution_count": 35,
     "metadata": {},
     "output_type": "execute_result"
    }
   ],
   "source": [
    "X.head()"
   ]
  },
  {
   "cell_type": "markdown",
   "id": "8c5efa6a",
   "metadata": {},
   "source": [
    "### split the dataset in train and test"
   ]
  },
  {
   "cell_type": "code",
   "execution_count": 33,
   "id": "d8107854",
   "metadata": {},
   "outputs": [],
   "source": [
    "x_train,x_test,y_train,y_test = train_test_split(X,y,test_size = 0.30, random_state= 355)"
   ]
  },
  {
   "cell_type": "code",
   "execution_count": 34,
   "id": "dc6f2dd6",
   "metadata": {},
   "outputs": [
    {
     "data": {
      "text/html": [
       "<div>\n",
       "<style scoped>\n",
       "    .dataframe tbody tr th:only-of-type {\n",
       "        vertical-align: middle;\n",
       "    }\n",
       "\n",
       "    .dataframe tbody tr th {\n",
       "        vertical-align: top;\n",
       "    }\n",
       "\n",
       "    .dataframe thead th {\n",
       "        text-align: right;\n",
       "    }\n",
       "</style>\n",
       "<table border=\"1\" class=\"dataframe\">\n",
       "  <thead>\n",
       "    <tr style=\"text-align: right;\">\n",
       "      <th></th>\n",
       "      <th>CRIM</th>\n",
       "      <th>ZN</th>\n",
       "      <th>INDUS</th>\n",
       "      <th>CHAS</th>\n",
       "      <th>NOX</th>\n",
       "      <th>RM</th>\n",
       "      <th>AGE</th>\n",
       "      <th>DIS</th>\n",
       "      <th>RAD</th>\n",
       "      <th>TAX</th>\n",
       "      <th>PTRATIO</th>\n",
       "      <th>B</th>\n",
       "      <th>LSTAT</th>\n",
       "    </tr>\n",
       "  </thead>\n",
       "  <tbody>\n",
       "    <tr>\n",
       "      <th>100</th>\n",
       "      <td>0.14866</td>\n",
       "      <td>0.0</td>\n",
       "      <td>8.56</td>\n",
       "      <td>0.0</td>\n",
       "      <td>0.520</td>\n",
       "      <td>6.727</td>\n",
       "      <td>79.9</td>\n",
       "      <td>2.7778</td>\n",
       "      <td>5.0</td>\n",
       "      <td>384.0</td>\n",
       "      <td>20.9</td>\n",
       "      <td>394.76</td>\n",
       "      <td>9.42</td>\n",
       "    </tr>\n",
       "    <tr>\n",
       "      <th>17</th>\n",
       "      <td>0.78420</td>\n",
       "      <td>0.0</td>\n",
       "      <td>8.14</td>\n",
       "      <td>0.0</td>\n",
       "      <td>0.538</td>\n",
       "      <td>5.990</td>\n",
       "      <td>81.7</td>\n",
       "      <td>4.2579</td>\n",
       "      <td>4.0</td>\n",
       "      <td>307.0</td>\n",
       "      <td>21.0</td>\n",
       "      <td>386.75</td>\n",
       "      <td>14.67</td>\n",
       "    </tr>\n",
       "    <tr>\n",
       "      <th>140</th>\n",
       "      <td>0.29090</td>\n",
       "      <td>0.0</td>\n",
       "      <td>21.89</td>\n",
       "      <td>0.0</td>\n",
       "      <td>0.624</td>\n",
       "      <td>6.174</td>\n",
       "      <td>93.6</td>\n",
       "      <td>1.6119</td>\n",
       "      <td>4.0</td>\n",
       "      <td>437.0</td>\n",
       "      <td>21.2</td>\n",
       "      <td>388.08</td>\n",
       "      <td>24.16</td>\n",
       "    </tr>\n",
       "    <tr>\n",
       "      <th>40</th>\n",
       "      <td>0.03359</td>\n",
       "      <td>75.0</td>\n",
       "      <td>2.95</td>\n",
       "      <td>0.0</td>\n",
       "      <td>0.428</td>\n",
       "      <td>7.024</td>\n",
       "      <td>15.8</td>\n",
       "      <td>5.4011</td>\n",
       "      <td>3.0</td>\n",
       "      <td>252.0</td>\n",
       "      <td>18.3</td>\n",
       "      <td>395.62</td>\n",
       "      <td>1.98</td>\n",
       "    </tr>\n",
       "    <tr>\n",
       "      <th>184</th>\n",
       "      <td>0.08308</td>\n",
       "      <td>0.0</td>\n",
       "      <td>2.46</td>\n",
       "      <td>0.0</td>\n",
       "      <td>0.488</td>\n",
       "      <td>5.604</td>\n",
       "      <td>89.8</td>\n",
       "      <td>2.9879</td>\n",
       "      <td>3.0</td>\n",
       "      <td>193.0</td>\n",
       "      <td>17.8</td>\n",
       "      <td>391.00</td>\n",
       "      <td>13.98</td>\n",
       "    </tr>\n",
       "  </tbody>\n",
       "</table>\n",
       "</div>"
      ],
      "text/plain": [
       "        CRIM    ZN  INDUS  CHAS    NOX     RM   AGE     DIS  RAD    TAX  \\\n",
       "100  0.14866   0.0   8.56   0.0  0.520  6.727  79.9  2.7778  5.0  384.0   \n",
       "17   0.78420   0.0   8.14   0.0  0.538  5.990  81.7  4.2579  4.0  307.0   \n",
       "140  0.29090   0.0  21.89   0.0  0.624  6.174  93.6  1.6119  4.0  437.0   \n",
       "40   0.03359  75.0   2.95   0.0  0.428  7.024  15.8  5.4011  3.0  252.0   \n",
       "184  0.08308   0.0   2.46   0.0  0.488  5.604  89.8  2.9879  3.0  193.0   \n",
       "\n",
       "     PTRATIO       B  LSTAT  \n",
       "100     20.9  394.76   9.42  \n",
       "17      21.0  386.75  14.67  \n",
       "140     21.2  388.08  24.16  \n",
       "40      18.3  395.62   1.98  \n",
       "184     17.8  391.00  13.98  "
      ]
     },
     "execution_count": 34,
     "metadata": {},
     "output_type": "execute_result"
    }
   ],
   "source": [
    "x_train.head()"
   ]
  },
  {
   "cell_type": "code",
   "execution_count": 36,
   "id": "07c90373",
   "metadata": {},
   "outputs": [
    {
     "data": {
      "text/html": [
       "<div>\n",
       "<style scoped>\n",
       "    .dataframe tbody tr th:only-of-type {\n",
       "        vertical-align: middle;\n",
       "    }\n",
       "\n",
       "    .dataframe tbody tr th {\n",
       "        vertical-align: top;\n",
       "    }\n",
       "\n",
       "    .dataframe thead th {\n",
       "        text-align: right;\n",
       "    }\n",
       "</style>\n",
       "<table border=\"1\" class=\"dataframe\">\n",
       "  <thead>\n",
       "    <tr style=\"text-align: right;\">\n",
       "      <th></th>\n",
       "      <th>CRIM</th>\n",
       "      <th>ZN</th>\n",
       "      <th>INDUS</th>\n",
       "      <th>CHAS</th>\n",
       "      <th>NOX</th>\n",
       "      <th>RM</th>\n",
       "      <th>AGE</th>\n",
       "      <th>DIS</th>\n",
       "      <th>RAD</th>\n",
       "      <th>TAX</th>\n",
       "      <th>PTRATIO</th>\n",
       "      <th>B</th>\n",
       "      <th>LSTAT</th>\n",
       "    </tr>\n",
       "  </thead>\n",
       "  <tbody>\n",
       "    <tr>\n",
       "      <th>488</th>\n",
       "      <td>0.15086</td>\n",
       "      <td>0.0</td>\n",
       "      <td>27.74</td>\n",
       "      <td>0.0</td>\n",
       "      <td>0.609</td>\n",
       "      <td>5.454</td>\n",
       "      <td>92.7</td>\n",
       "      <td>1.8209</td>\n",
       "      <td>4.0</td>\n",
       "      <td>711.0</td>\n",
       "      <td>20.1</td>\n",
       "      <td>395.09</td>\n",
       "      <td>18.06</td>\n",
       "    </tr>\n",
       "    <tr>\n",
       "      <th>128</th>\n",
       "      <td>0.32543</td>\n",
       "      <td>0.0</td>\n",
       "      <td>21.89</td>\n",
       "      <td>0.0</td>\n",
       "      <td>0.624</td>\n",
       "      <td>6.431</td>\n",
       "      <td>98.8</td>\n",
       "      <td>1.8125</td>\n",
       "      <td>4.0</td>\n",
       "      <td>437.0</td>\n",
       "      <td>21.2</td>\n",
       "      <td>396.90</td>\n",
       "      <td>15.39</td>\n",
       "    </tr>\n",
       "    <tr>\n",
       "      <th>191</th>\n",
       "      <td>0.06911</td>\n",
       "      <td>45.0</td>\n",
       "      <td>3.44</td>\n",
       "      <td>0.0</td>\n",
       "      <td>0.437</td>\n",
       "      <td>6.739</td>\n",
       "      <td>30.8</td>\n",
       "      <td>6.4798</td>\n",
       "      <td>5.0</td>\n",
       "      <td>398.0</td>\n",
       "      <td>15.2</td>\n",
       "      <td>389.71</td>\n",
       "      <td>4.69</td>\n",
       "    </tr>\n",
       "    <tr>\n",
       "      <th>53</th>\n",
       "      <td>0.04981</td>\n",
       "      <td>21.0</td>\n",
       "      <td>5.64</td>\n",
       "      <td>0.0</td>\n",
       "      <td>0.439</td>\n",
       "      <td>5.998</td>\n",
       "      <td>21.4</td>\n",
       "      <td>6.8147</td>\n",
       "      <td>4.0</td>\n",
       "      <td>243.0</td>\n",
       "      <td>16.8</td>\n",
       "      <td>396.90</td>\n",
       "      <td>8.43</td>\n",
       "    </tr>\n",
       "    <tr>\n",
       "      <th>388</th>\n",
       "      <td>14.33370</td>\n",
       "      <td>0.0</td>\n",
       "      <td>18.10</td>\n",
       "      <td>0.0</td>\n",
       "      <td>0.700</td>\n",
       "      <td>4.880</td>\n",
       "      <td>100.0</td>\n",
       "      <td>1.5895</td>\n",
       "      <td>24.0</td>\n",
       "      <td>666.0</td>\n",
       "      <td>20.2</td>\n",
       "      <td>372.92</td>\n",
       "      <td>30.62</td>\n",
       "    </tr>\n",
       "  </tbody>\n",
       "</table>\n",
       "</div>"
      ],
      "text/plain": [
       "         CRIM    ZN  INDUS  CHAS    NOX     RM    AGE     DIS   RAD    TAX  \\\n",
       "488   0.15086   0.0  27.74   0.0  0.609  5.454   92.7  1.8209   4.0  711.0   \n",
       "128   0.32543   0.0  21.89   0.0  0.624  6.431   98.8  1.8125   4.0  437.0   \n",
       "191   0.06911  45.0   3.44   0.0  0.437  6.739   30.8  6.4798   5.0  398.0   \n",
       "53    0.04981  21.0   5.64   0.0  0.439  5.998   21.4  6.8147   4.0  243.0   \n",
       "388  14.33370   0.0  18.10   0.0  0.700  4.880  100.0  1.5895  24.0  666.0   \n",
       "\n",
       "     PTRATIO       B  LSTAT  \n",
       "488     20.1  395.09  18.06  \n",
       "128     21.2  396.90  15.39  \n",
       "191     15.2  389.71   4.69  \n",
       "53      16.8  396.90   8.43  \n",
       "388     20.2  372.92  30.62  "
      ]
     },
     "execution_count": 36,
     "metadata": {},
     "output_type": "execute_result"
    }
   ],
   "source": [
    "x_test.head()"
   ]
  },
  {
   "cell_type": "markdown",
   "id": "599e629e",
   "metadata": {},
   "source": [
    "####  Without using hyper parameter tunning"
   ]
  },
  {
   "cell_type": "markdown",
   "id": "1c360e7c",
   "metadata": {},
   "source": [
    "#### Creating and Fitting our Random Forest Model without feature selection and hyperparameter tuning."
   ]
  },
  {
   "cell_type": "markdown",
   "id": "bc2cc5ef",
   "metadata": {},
   "source": [
    "# default parameter\n",
    "\n",
    "sklearn.ensemble.RandomForestRegressor(n_estimators=100, *, criterion='squared_error', max_depth=None, min_samples_split=2, min_samples_leaf=1, min_weight_fraction_leaf=0.0, max_features='auto', max_leaf_nodes=None, min_impurity_decrease=0.0, bootstrap=True, oob_score=False, n_jobs=None, random_state=None, verbose=0, warm_start=False, ccp_alpha=0.0, max_samples=None)"
   ]
  },
  {
   "cell_type": "markdown",
   "id": "1189bfca",
   "metadata": {},
   "source": [
    "# MODEL:1"
   ]
  },
  {
   "cell_type": "code",
   "execution_count": 37,
   "id": "ae3271d0",
   "metadata": {},
   "outputs": [
    {
     "data": {
      "text/plain": [
       "RandomForestRegressor()"
      ]
     },
     "execution_count": 37,
     "metadata": {},
     "output_type": "execute_result"
    }
   ],
   "source": [
    "#let's first visualize the tree on the data without doing any pre processing\n",
    "\n",
    "model_1 = RandomForestRegressor()\n",
    "model_1.fit(x_train, y_train)"
   ]
  },
  {
   "cell_type": "code",
   "execution_count": 38,
   "id": "0c85420d",
   "metadata": {},
   "outputs": [
    {
     "data": {
      "text/plain": [
       "RandomForestRegressor()"
      ]
     },
     "execution_count": 38,
     "metadata": {},
     "output_type": "execute_result"
    }
   ],
   "source": [
    "model_1"
   ]
  },
  {
   "cell_type": "code",
   "execution_count": 39,
   "id": "2f79eec6",
   "metadata": {},
   "outputs": [
    {
     "data": {
      "text/plain": [
       "array([ 4.50418183,  0.05958966,  0.85284496,  0.11813328,  2.0513006 ,\n",
       "       38.14150345,  1.61849751,  7.64960134,  0.48141147,  1.71555513,\n",
       "        1.46665193,  1.10396517, 40.23676367])"
      ]
     },
     "execution_count": 39,
     "metadata": {},
     "output_type": "execute_result"
    }
   ],
   "source": [
    "(model_1.feature_importances_)*100"
   ]
  },
  {
   "cell_type": "code",
   "execution_count": 40,
   "id": "bc85717d",
   "metadata": {},
   "outputs": [
    {
     "data": {
      "text/plain": [
       "0.9794321002313043"
      ]
     },
     "execution_count": 40,
     "metadata": {},
     "output_type": "execute_result"
    }
   ],
   "source": [
    "model_1.score(x_train, y_train) # train score"
   ]
  },
  {
   "cell_type": "code",
   "execution_count": 41,
   "id": "9368c6ab",
   "metadata": {},
   "outputs": [
    {
     "data": {
      "text/plain": [
       "0.8825388959136553"
      ]
     },
     "execution_count": 41,
     "metadata": {},
     "output_type": "execute_result"
    }
   ],
   "source": [
    "model_1.score(x_test, y_test) # test score"
   ]
  },
  {
   "cell_type": "code",
   "execution_count": null,
   "id": "23706cd4",
   "metadata": {},
   "outputs": [],
   "source": []
  },
  {
   "cell_type": "code",
   "execution_count": 42,
   "id": "7332621e",
   "metadata": {},
   "outputs": [
    {
     "name": "stdout",
     "output_type": "stream",
     "text": [
      "Train data score 0.9794321002313043\n",
      "Train data r2_score 0.9794321002313043\n",
      "Train data MSE: 1.6453820536723167\n",
      "Train data MAE: 0.8190593220338982\n",
      "Train data RMSE: 1.2827244652193692\n"
     ]
    }
   ],
   "source": [
    "y_hat_1=model_1.predict(x_train)\n",
    "\n",
    "print(\"Train data score\",model_1.score(x_train, y_train))\n",
    "print(\"Train data r2_score\",r2_score(y_train,y_hat_1))\n",
    "print(\"Train data MSE:\",mean_squared_error(y_train,y_hat_1))\n",
    "print(\"Train data MAE:\",mean_absolute_error(y_train,y_hat_1))\n",
    "print(\"Train data RMSE:\",np.sqrt(mean_squared_error(y_train,y_hat_1)))"
   ]
  },
  {
   "cell_type": "code",
   "execution_count": 44,
   "id": "4c3f39a8",
   "metadata": {},
   "outputs": [
    {
     "data": {
      "text/plain": [
       "array([26.454, 17.928, 14.386, 34.474, 24.491, 32.902, 15.059, 18.58 ,\n",
       "       21.254,  8.721, 22.2  , 24.78 , 20.359, 14.283, 14.234, 33.319,\n",
       "       13.187, 27.943, 43.283, 18.278, 22.048, 10.612, 19.325, 20.948,\n",
       "       24.549, 19.583, 16.758, 23.339, 21.421, 44.746, 21.059,  6.591,\n",
       "       28.064, 19.302, 22.218, 19.114, 45.885, 20.973, 44.587, 15.774,\n",
       "       21.968, 20.983, 17.432, 35.935, 24.939, 30.411, 26.874, 13.68 ,\n",
       "       13.413,  9.29 , 43.146, 19.438, 20.425, 14.324, 13.292, 28.235,\n",
       "       44.901, 21.632, 30.754, 22.063, 12.699, 10.652, 48.437, 21.469,\n",
       "       19.417, 19.033, 24.784, 18.598, 16.225, 21.625, 27.975, 24.448,\n",
       "       17.437, 15.926, 24.908,  8.283, 31.503, 17.284, 24.178,  8.693,\n",
       "       16.301, 40.64 , 43.547, 20.052, 20.766, 18.26 , 17.065, 19.308,\n",
       "       23.609, 24.362, 20.087, 32.797, 14.944, 18.743, 21.703, 24.031,\n",
       "       22.936, 23.041, 47.777, 14.682, 21.258, 20.563, 21.566, 34.568,\n",
       "       20.555, 25.784, 18.228, 11.637,  9.397, 21.904, 20.862, 22.597,\n",
       "       15.976, 27.164, 23.729, 21.515, 13.587, 19.523, 16.65 , 14.353,\n",
       "        9.02 , 24.591, 18.802, 17.104, 13.931, 23.183,  8.786, 19.563,\n",
       "       20.275, 33.927, 33.57 , 27.213, 33.991, 13.078, 26.331, 45.81 ,\n",
       "       24.493, 23.153, 20.454, 30.838, 23.371, 23.53 , 22.968, 14.424,\n",
       "       26.188, 24.514, 13.829, 21.044, 30.579, 34.824, 23.345, 21.672,\n",
       "       20.204, 19.898, 35.272, 29.812, 20.046, 20.147, 23.222, 46.94 ,\n",
       "       29.055, 47.646, 34.715, 11.178, 20.913, 29.939, 18.883, 47.066,\n",
       "       18.251, 14.122, 18.058, 12.724, 17.612, 32.256, 15.001, 22.701,\n",
       "       33.26 , 22.984, 21.581, 12.541, 31.815, 21.169, 45.983, 12.958,\n",
       "       12.127, 18.254, 27.805, 27.577, 15.548, 22.03 , 20.648, 19.794,\n",
       "       29.339, 19.907, 11.983, 42.214, 20.795, 23.104, 19.425, 31.4  ,\n",
       "       21.876, 20.207, 12.998, 13.958, 30.98 , 15.091, 17.727, 22.812,\n",
       "       12.384, 12.435, 29.057, 43.864, 19.429, 33.167, 19.895, 27.348,\n",
       "       30.29 , 19.883, 20.027, 21.189, 11.774, 23.888, 19.638,  9.805,\n",
       "       21.88 , 20.156, 15.06 , 12.682, 21.464, 23.056, 23.315, 21.834,\n",
       "       15.398, 22.851, 26.489, 19.124, 41.174, 19.513, 21.07 , 26.794,\n",
       "       29.777, 32.29 , 15.713, 22.385, 16.3  , 19.8  , 20.997, 30.562,\n",
       "        7.583, 21.913, 22.298, 22.52 , 19.608, 13.983, 15.598, 14.989,\n",
       "       17.531, 14.633, 47.717, 23.258, 21.066, 15.027, 22.213, 20.632,\n",
       "       25.731, 42.754, 18.097, 23.953, 11.663, 23.746, 23.862, 13.076,\n",
       "       25.776, 20.638, 23.318, 28.144, 19.514, 24.04 , 10.748, 22.495,\n",
       "       19.808, 13.856, 43.066, 20.61 , 17.727, 29.926, 16.815, 23.285,\n",
       "       28.079, 31.946, 21.166, 27.825,  9.12 , 17.671, 22.406, 24.079,\n",
       "       29.675, 33.201, 30.551, 23.499, 19.891, 22.294, 18.6  , 11.966,\n",
       "       19.196, 20.615, 25.738, 18.81 , 20.475, 25.001, 26.271, 20.105,\n",
       "       33.508, 43.282, 21.064, 19.092, 12.544, 18.798, 31.124, 21.769,\n",
       "       24.265, 22.909, 37.146, 20.74 , 20.782, 19.846, 23.768, 12.075,\n",
       "       21.413,  9.335, 46.855, 24.123, 20.195, 17.389,  9.757, 19.403,\n",
       "       22.959, 13.395,  8.908, 22.721, 12.209, 19.532, 21.66 , 15.974,\n",
       "       14.175, 28.465,  8.582, 20.746, 20.679, 35.719, 22.709, 17.934,\n",
       "       19.31 , 22.161])"
      ]
     },
     "execution_count": 44,
     "metadata": {},
     "output_type": "execute_result"
    }
   ],
   "source": [
    "y_hat_1"
   ]
  },
  {
   "cell_type": "code",
   "execution_count": 45,
   "id": "9b816c67",
   "metadata": {},
   "outputs": [
    {
     "name": "stdout",
     "output_type": "stream",
     "text": [
      "Test data score 0.8825388959136553\n",
      "Test data r2_score 0.8825388959136553\n",
      "Test data MSE: 11.12562029605262\n",
      "Test data MAE: 2.396730263157893\n",
      "Test data RMSE: 3.335509001045061\n"
     ]
    }
   ],
   "source": [
    "y_hat_2=model_1.predict(x_test)\n",
    "\n",
    "print(\"Test data score\",model_1.score(x_test, y_test))\n",
    "print(\"Test data r2_score\",r2_score(y_test,y_hat_2)) # (coefficient of determination) regression score function.(1.0)\n",
    "print(\"Test data MSE:\",mean_squared_error(y_test,y_hat_2))\n",
    "print(\"Test data MAE:\",mean_absolute_error(y_test,y_hat_2))\n",
    "print(\"Test data RMSE:\", np.sqrt(mean_squared_error(y_test,y_hat_2)))"
   ]
  },
  {
   "cell_type": "code",
   "execution_count": 46,
   "id": "329d7ebc",
   "metadata": {},
   "outputs": [
    {
     "data": {
      "text/html": [
       "<div>\n",
       "<style scoped>\n",
       "    .dataframe tbody tr th:only-of-type {\n",
       "        vertical-align: middle;\n",
       "    }\n",
       "\n",
       "    .dataframe tbody tr th {\n",
       "        vertical-align: top;\n",
       "    }\n",
       "\n",
       "    .dataframe thead th {\n",
       "        text-align: right;\n",
       "    }\n",
       "</style>\n",
       "<table border=\"1\" class=\"dataframe\">\n",
       "  <thead>\n",
       "    <tr style=\"text-align: right;\">\n",
       "      <th></th>\n",
       "      <th>Real Values train</th>\n",
       "      <th>Predicted Values train</th>\n",
       "    </tr>\n",
       "  </thead>\n",
       "  <tbody>\n",
       "    <tr>\n",
       "      <th>100</th>\n",
       "      <td>27.5</td>\n",
       "      <td>26.454</td>\n",
       "    </tr>\n",
       "    <tr>\n",
       "      <th>17</th>\n",
       "      <td>17.5</td>\n",
       "      <td>17.928</td>\n",
       "    </tr>\n",
       "    <tr>\n",
       "      <th>140</th>\n",
       "      <td>14.0</td>\n",
       "      <td>14.386</td>\n",
       "    </tr>\n",
       "    <tr>\n",
       "      <th>40</th>\n",
       "      <td>34.9</td>\n",
       "      <td>34.474</td>\n",
       "    </tr>\n",
       "    <tr>\n",
       "      <th>184</th>\n",
       "      <td>26.4</td>\n",
       "      <td>24.491</td>\n",
       "    </tr>\n",
       "  </tbody>\n",
       "</table>\n",
       "</div>"
      ],
      "text/plain": [
       "     Real Values train  Predicted Values train\n",
       "100               27.5                  26.454\n",
       "17                17.5                  17.928\n",
       "140               14.0                  14.386\n",
       "40                34.9                  34.474\n",
       "184               26.4                  24.491"
      ]
     },
     "execution_count": 46,
     "metadata": {},
     "output_type": "execute_result"
    }
   ],
   "source": [
    "predict_dataframe_train=pd.DataFrame({\"Real Values train\":y_train, \"Predicted Values train\" :y_hat_1})\n",
    "predict_dataframe_train.head()"
   ]
  },
  {
   "cell_type": "code",
   "execution_count": 48,
   "id": "1b952dd2",
   "metadata": {},
   "outputs": [
    {
     "data": {
      "text/html": [
       "<div>\n",
       "<style scoped>\n",
       "    .dataframe tbody tr th:only-of-type {\n",
       "        vertical-align: middle;\n",
       "    }\n",
       "\n",
       "    .dataframe tbody tr th {\n",
       "        vertical-align: top;\n",
       "    }\n",
       "\n",
       "    .dataframe thead th {\n",
       "        text-align: right;\n",
       "    }\n",
       "</style>\n",
       "<table border=\"1\" class=\"dataframe\">\n",
       "  <thead>\n",
       "    <tr style=\"text-align: right;\">\n",
       "      <th></th>\n",
       "      <th>Real Values test</th>\n",
       "      <th>Predicted Values test</th>\n",
       "    </tr>\n",
       "  </thead>\n",
       "  <tbody>\n",
       "    <tr>\n",
       "      <th>488</th>\n",
       "      <td>15.2</td>\n",
       "      <td>13.338</td>\n",
       "    </tr>\n",
       "    <tr>\n",
       "      <th>128</th>\n",
       "      <td>18.0</td>\n",
       "      <td>17.050</td>\n",
       "    </tr>\n",
       "    <tr>\n",
       "      <th>191</th>\n",
       "      <td>30.5</td>\n",
       "      <td>30.396</td>\n",
       "    </tr>\n",
       "    <tr>\n",
       "      <th>53</th>\n",
       "      <td>23.4</td>\n",
       "      <td>21.013</td>\n",
       "    </tr>\n",
       "    <tr>\n",
       "      <th>388</th>\n",
       "      <td>10.2</td>\n",
       "      <td>8.681</td>\n",
       "    </tr>\n",
       "  </tbody>\n",
       "</table>\n",
       "</div>"
      ],
      "text/plain": [
       "     Real Values test  Predicted Values test \n",
       "488              15.2                  13.338\n",
       "128              18.0                  17.050\n",
       "191              30.5                  30.396\n",
       "53               23.4                  21.013\n",
       "388              10.2                   8.681"
      ]
     },
     "execution_count": 48,
     "metadata": {},
     "output_type": "execute_result"
    }
   ],
   "source": [
    "predict_dataframe_test=pd.DataFrame({'Real Values test':y_test, 'Predicted Values test ':y_hat_2})\n",
    "predict_dataframe_test.head()"
   ]
  },
  {
   "cell_type": "code",
   "execution_count": 49,
   "id": "4d1c779d",
   "metadata": {},
   "outputs": [],
   "source": [
    "# Functions that will help us calculate the RMSE and print the score.\n",
    "\n",
    "def rmse(x,y):\n",
    "    return np.sqrt(((x-y)**2).mean())"
   ]
  },
  {
   "cell_type": "code",
   "execution_count": 50,
   "id": "b8740575",
   "metadata": {},
   "outputs": [
    {
     "data": {
      "text/plain": [
       "3.3355090010450605"
      ]
     },
     "execution_count": 50,
     "metadata": {},
     "output_type": "execute_result"
    }
   ],
   "source": [
    "rmse(y_test,y_hat_2)"
   ]
  },
  {
   "cell_type": "code",
   "execution_count": 51,
   "id": "095531e0",
   "metadata": {},
   "outputs": [
    {
     "data": {
      "text/plain": [
       "3.335509001045061"
      ]
     },
     "execution_count": 51,
     "metadata": {},
     "output_type": "execute_result"
    }
   ],
   "source": [
    "np.sqrt(mean_squared_error(y_test,y_hat_2))"
   ]
  },
  {
   "cell_type": "code",
   "execution_count": 52,
   "id": "89dce548",
   "metadata": {},
   "outputs": [],
   "source": [
    "def print_score(m):\n",
    "    res =[rmse(m.predict(x_train),y_train),rmse(m.predict(x_test),y_test),m.score(x_train,y_train),m.score(x_test,y_test)]\n",
    "    if hasattr(m,'oob_score_'):res.append(m.oob_score_)\n",
    "    print(res)"
   ]
  },
  {
   "cell_type": "code",
   "execution_count": 53,
   "id": "8e750303",
   "metadata": {},
   "outputs": [
    {
     "name": "stdout",
     "output_type": "stream",
     "text": [
      "[1.2827244652193694, 3.3355090010450605, 0.9794321002313043, 0.8825388959136553]\n"
     ]
    }
   ],
   "source": [
    "print_score(model_1)"
   ]
  },
  {
   "cell_type": "markdown",
   "id": "a2f75dd0",
   "metadata": {},
   "source": [
    "From our base Random Forest model, we already get a very decent result with the training RMSE to be 1.2 while the test RMSE is 3.3. However, notice that our model seems to be ovefitting since the validation RMSE is around 3 times higher than the training RMSE.\n",
    "\n",
    "Hence, the baseline score to beat is test RMSE 3.315 this causing overfitting condition, and the  \n",
    "\n",
    "Train data score 0.98, and\n",
    "\n",
    "Test data score 0.88"
   ]
  },
  {
   "cell_type": "code",
   "execution_count": 54,
   "id": "89df1fd1",
   "metadata": {},
   "outputs": [
    {
     "data": {
      "text/plain": [
       "0.08999999999999997"
      ]
     },
     "execution_count": 54,
     "metadata": {},
     "output_type": "execute_result"
    }
   ],
   "source": [
    "0.97-0.88"
   ]
  },
  {
   "cell_type": "code",
   "execution_count": null,
   "id": "4ed3ce7d",
   "metadata": {},
   "outputs": [],
   "source": []
  },
  {
   "cell_type": "markdown",
   "id": "779949d6",
   "metadata": {},
   "source": []
  },
  {
   "cell_type": "markdown",
   "id": "4ce25c75",
   "metadata": {},
   "source": [
    "#### \"From the above experimnet we concluded that based on the accuracy and error , when we build a model using without hyperparameter tuning it may show the overfit in means it perform well in train data but it show bad result in test data , so there should be needed the hyperparameter tuning., and feature selction should be needed , but the random forest statemnet tells that the multicolineratity doesnot affect the model and outlier also.\""
   ]
  },
  {
   "cell_type": "markdown",
   "id": "66b0aaf4",
   "metadata": {},
   "source": [
    "# Model building by using feature importance"
   ]
  },
  {
   "cell_type": "markdown",
   "id": "9e130f40",
   "metadata": {},
   "source": [
    "###### The features in our data are directly influencing our Random Forest model and the result it achieves (i.e. the better the features we prepare and choose, the better final result we will achieve!). Hence we are going to explore and fine tune our Random Forest model by determining which of the features it had deemed to be important in our base model earlier."
   ]
  },
  {
   "cell_type": "code",
   "execution_count": 55,
   "id": "187d7757",
   "metadata": {},
   "outputs": [
    {
     "data": {
      "text/plain": [
       "RandomForestRegressor()"
      ]
     },
     "execution_count": 55,
     "metadata": {},
     "output_type": "execute_result"
    }
   ],
   "source": [
    "model_2 = RandomForestRegressor()\n",
    "model_2.fit(X, y)"
   ]
  },
  {
   "cell_type": "code",
   "execution_count": 56,
   "id": "ed4618b7",
   "metadata": {},
   "outputs": [],
   "source": [
    "def feat_importance(m,df):\n",
    "    importance = m.feature_importances_\n",
    "    importance = pd.DataFrame(importance,index=df.columns,columns=[\"Importance\"])\n",
    "    return importance.sort_values(by=['Importance'],ascending=False)\n",
    "\n",
    "\n"
   ]
  },
  {
   "cell_type": "code",
   "execution_count": 1,
   "id": "1c3ccbc7",
   "metadata": {},
   "outputs": [
    {
     "ename": "NameError",
     "evalue": "name 'feat_importance' is not defined",
     "output_type": "error",
     "traceback": [
      "\u001b[1;31m---------------------------------------------------------------------------\u001b[0m",
      "\u001b[1;31mNameError\u001b[0m                                 Traceback (most recent call last)",
      "\u001b[1;32m~\\AppData\\Local\\Temp/ipykernel_7144/1264703382.py\u001b[0m in \u001b[0;36m<module>\u001b[1;34m\u001b[0m\n\u001b[1;32m----> 1\u001b[1;33m \u001b[0mimportance\u001b[0m \u001b[1;33m=\u001b[0m \u001b[0mfeat_importance\u001b[0m\u001b[1;33m(\u001b[0m\u001b[0mmodel_2\u001b[0m\u001b[1;33m,\u001b[0m\u001b[0mX\u001b[0m\u001b[1;33m)\u001b[0m\u001b[1;33m\u001b[0m\u001b[1;33m\u001b[0m\u001b[0m\n\u001b[0m\u001b[0;32m      2\u001b[0m \u001b[0mimportance\u001b[0m\u001b[1;33m[\u001b[0m\u001b[1;33m:\u001b[0m\u001b[1;33m]\u001b[0m\u001b[1;33m*\u001b[0m\u001b[1;36m100\u001b[0m\u001b[1;33m\u001b[0m\u001b[1;33m\u001b[0m\u001b[0m\n\u001b[0;32m      3\u001b[0m \u001b[1;33m\u001b[0m\u001b[0m\n\u001b[0;32m      4\u001b[0m \u001b[0mdfscores\u001b[0m\u001b[1;33m=\u001b[0m\u001b[0mpd\u001b[0m\u001b[1;33m.\u001b[0m\u001b[0mDataFrame\u001b[0m\u001b[1;33m(\u001b[0m\u001b[0mimportance\u001b[0m\u001b[1;33m,\u001b[0m\u001b[0mcolumns\u001b[0m\u001b[1;33m=\u001b[0m\u001b[1;33m[\u001b[0m\u001b[1;34m\"Score\"\u001b[0m\u001b[1;33m]\u001b[0m\u001b[1;33m)\u001b[0m\u001b[1;33m\u001b[0m\u001b[1;33m\u001b[0m\u001b[0m\n\u001b[0;32m      5\u001b[0m \u001b[0mdfcolumns\u001b[0m\u001b[1;33m=\u001b[0m\u001b[0mpd\u001b[0m\u001b[1;33m.\u001b[0m\u001b[0mDataFrame\u001b[0m\u001b[1;33m(\u001b[0m\u001b[0mX\u001b[0m\u001b[1;33m.\u001b[0m\u001b[0mcolumns\u001b[0m\u001b[1;33m)\u001b[0m\u001b[1;33m\u001b[0m\u001b[1;33m\u001b[0m\u001b[0m\n",
      "\u001b[1;31mNameError\u001b[0m: name 'feat_importance' is not defined"
     ]
    }
   ],
   "source": [
    "importance = feat_importance(model_2,X)\n",
    "importance[:]*100"
   ]
  },
  {
   "cell_type": "code",
   "execution_count": 58,
   "id": "ff3b7a0c",
   "metadata": {},
   "outputs": [
    {
     "data": {
      "text/plain": [
       "array([ 0.08481737,  0.09995698,  0.37313357,  0.58403202,  1.06179777,\n",
       "        1.28735401,  1.38567138,  1.6591921 ,  2.59521917,  3.59197361,\n",
       "        6.54183029, 37.68982622, 43.04519551])"
      ]
     },
     "execution_count": 58,
     "metadata": {},
     "output_type": "execute_result"
    }
   ],
   "source": [
    "np.sort(model_2.feature_importances_)*100"
   ]
  },
  {
   "cell_type": "markdown",
   "id": "0dead0fb",
   "metadata": {},
   "source": [
    "#### Model building by using hyperparameter tuning and feature importance\n",
    "\n",
    "#### Feature Engineering and Hyperparameter tuning are essential steps within a Machine Learning Pipeline."
   ]
  },
  {
   "cell_type": "markdown",
   "id": "eaca2ad0",
   "metadata": {},
   "source": [
    "#### Find out the importance features by using bar plot"
   ]
  },
  {
   "cell_type": "code",
   "execution_count": 59,
   "id": "386907fe",
   "metadata": {},
   "outputs": [
    {
     "data": {
      "image/png": "[encoded data removed]",
      "text/plain": [
       "<Figure size 432x288 with 1 Axes>"
      ]
     },
     "metadata": {
      "needs_background": "light"
     },
     "output_type": "display_data"
    }
   ],
   "source": [
    "#importance.plot(kind='bar')\n",
    "importance.plot(kind='barh')\n",
    "\n",
    "plt.title(\"Bar Plot of Ranked Feature Importance\")\n",
    "plt.show()"
   ]
  },
  {
   "cell_type": "code",
   "execution_count": 60,
   "id": "4becdd21",
   "metadata": {},
   "outputs": [],
   "source": [
    "#Discarding features with feature coefficients less than 0.01\n",
    "\n",
    "to_keep = importance[importance['Importance'] > 0.01].index\n",
    "\n",
    "X_new = X[to_keep].copy()\n",
    "\n"
   ]
  },
  {
   "cell_type": "code",
   "execution_count": 62,
   "id": "5cf825dc",
   "metadata": {},
   "outputs": [
    {
     "data": {
      "text/html": [
       "<div>\n",
       "<style scoped>\n",
       "    .dataframe tbody tr th:only-of-type {\n",
       "        vertical-align: middle;\n",
       "    }\n",
       "\n",
       "    .dataframe tbody tr th {\n",
       "        vertical-align: top;\n",
       "    }\n",
       "\n",
       "    .dataframe thead th {\n",
       "        text-align: right;\n",
       "    }\n",
       "</style>\n",
       "<table border=\"1\" class=\"dataframe\">\n",
       "  <thead>\n",
       "    <tr style=\"text-align: right;\">\n",
       "      <th></th>\n",
       "      <th>RM</th>\n",
       "      <th>LSTAT</th>\n",
       "      <th>DIS</th>\n",
       "      <th>CRIM</th>\n",
       "      <th>NOX</th>\n",
       "      <th>PTRATIO</th>\n",
       "      <th>TAX</th>\n",
       "      <th>AGE</th>\n",
       "      <th>B</th>\n",
       "    </tr>\n",
       "  </thead>\n",
       "  <tbody>\n",
       "    <tr>\n",
       "      <th>0</th>\n",
       "      <td>6.575</td>\n",
       "      <td>4.98</td>\n",
       "      <td>4.0900</td>\n",
       "      <td>0.00632</td>\n",
       "      <td>0.538</td>\n",
       "      <td>15.3</td>\n",
       "      <td>296.0</td>\n",
       "      <td>65.2</td>\n",
       "      <td>396.90</td>\n",
       "    </tr>\n",
       "    <tr>\n",
       "      <th>1</th>\n",
       "      <td>6.421</td>\n",
       "      <td>9.14</td>\n",
       "      <td>4.9671</td>\n",
       "      <td>0.02731</td>\n",
       "      <td>0.469</td>\n",
       "      <td>17.8</td>\n",
       "      <td>242.0</td>\n",
       "      <td>78.9</td>\n",
       "      <td>396.90</td>\n",
       "    </tr>\n",
       "    <tr>\n",
       "      <th>2</th>\n",
       "      <td>7.185</td>\n",
       "      <td>4.03</td>\n",
       "      <td>4.9671</td>\n",
       "      <td>0.02729</td>\n",
       "      <td>0.469</td>\n",
       "      <td>17.8</td>\n",
       "      <td>242.0</td>\n",
       "      <td>61.1</td>\n",
       "      <td>392.83</td>\n",
       "    </tr>\n",
       "    <tr>\n",
       "      <th>3</th>\n",
       "      <td>6.998</td>\n",
       "      <td>2.94</td>\n",
       "      <td>6.0622</td>\n",
       "      <td>0.03237</td>\n",
       "      <td>0.458</td>\n",
       "      <td>18.7</td>\n",
       "      <td>222.0</td>\n",
       "      <td>45.8</td>\n",
       "      <td>394.63</td>\n",
       "    </tr>\n",
       "    <tr>\n",
       "      <th>4</th>\n",
       "      <td>7.147</td>\n",
       "      <td>5.33</td>\n",
       "      <td>6.0622</td>\n",
       "      <td>0.06905</td>\n",
       "      <td>0.458</td>\n",
       "      <td>18.7</td>\n",
       "      <td>222.0</td>\n",
       "      <td>54.2</td>\n",
       "      <td>396.90</td>\n",
       "    </tr>\n",
       "  </tbody>\n",
       "</table>\n",
       "</div>"
      ],
      "text/plain": [
       "      RM  LSTAT     DIS     CRIM    NOX  PTRATIO    TAX   AGE       B\n",
       "0  6.575   4.98  4.0900  0.00632  0.538     15.3  296.0  65.2  396.90\n",
       "1  6.421   9.14  4.9671  0.02731  0.469     17.8  242.0  78.9  396.90\n",
       "2  7.185   4.03  4.9671  0.02729  0.469     17.8  242.0  61.1  392.83\n",
       "3  6.998   2.94  6.0622  0.03237  0.458     18.7  222.0  45.8  394.63\n",
       "4  7.147   5.33  6.0622  0.06905  0.458     18.7  222.0  54.2  396.90"
      ]
     },
     "execution_count": 62,
     "metadata": {},
     "output_type": "execute_result"
    }
   ],
   "source": [
    "X_new.head()"
   ]
  },
  {
   "cell_type": "code",
   "execution_count": 63,
   "id": "c10e3f88",
   "metadata": {},
   "outputs": [],
   "source": [
    "x_train_f,x_test_f,y_train,y_test = train_test_split(X_new,y,test_size = 0.30, random_state= 355)"
   ]
  },
  {
   "cell_type": "code",
   "execution_count": 64,
   "id": "294f8df3",
   "metadata": {},
   "outputs": [
    {
     "data": {
      "text/html": [
       "<div>\n",
       "<style scoped>\n",
       "    .dataframe tbody tr th:only-of-type {\n",
       "        vertical-align: middle;\n",
       "    }\n",
       "\n",
       "    .dataframe tbody tr th {\n",
       "        vertical-align: top;\n",
       "    }\n",
       "\n",
       "    .dataframe thead th {\n",
       "        text-align: right;\n",
       "    }\n",
       "</style>\n",
       "<table border=\"1\" class=\"dataframe\">\n",
       "  <thead>\n",
       "    <tr style=\"text-align: right;\">\n",
       "      <th></th>\n",
       "      <th>RM</th>\n",
       "      <th>LSTAT</th>\n",
       "      <th>DIS</th>\n",
       "      <th>CRIM</th>\n",
       "      <th>NOX</th>\n",
       "      <th>PTRATIO</th>\n",
       "      <th>TAX</th>\n",
       "      <th>AGE</th>\n",
       "      <th>B</th>\n",
       "    </tr>\n",
       "  </thead>\n",
       "  <tbody>\n",
       "    <tr>\n",
       "      <th>100</th>\n",
       "      <td>6.727</td>\n",
       "      <td>9.42</td>\n",
       "      <td>2.7778</td>\n",
       "      <td>0.14866</td>\n",
       "      <td>0.520</td>\n",
       "      <td>20.9</td>\n",
       "      <td>384.0</td>\n",
       "      <td>79.9</td>\n",
       "      <td>394.76</td>\n",
       "    </tr>\n",
       "    <tr>\n",
       "      <th>17</th>\n",
       "      <td>5.990</td>\n",
       "      <td>14.67</td>\n",
       "      <td>4.2579</td>\n",
       "      <td>0.78420</td>\n",
       "      <td>0.538</td>\n",
       "      <td>21.0</td>\n",
       "      <td>307.0</td>\n",
       "      <td>81.7</td>\n",
       "      <td>386.75</td>\n",
       "    </tr>\n",
       "    <tr>\n",
       "      <th>140</th>\n",
       "      <td>6.174</td>\n",
       "      <td>24.16</td>\n",
       "      <td>1.6119</td>\n",
       "      <td>0.29090</td>\n",
       "      <td>0.624</td>\n",
       "      <td>21.2</td>\n",
       "      <td>437.0</td>\n",
       "      <td>93.6</td>\n",
       "      <td>388.08</td>\n",
       "    </tr>\n",
       "    <tr>\n",
       "      <th>40</th>\n",
       "      <td>7.024</td>\n",
       "      <td>1.98</td>\n",
       "      <td>5.4011</td>\n",
       "      <td>0.03359</td>\n",
       "      <td>0.428</td>\n",
       "      <td>18.3</td>\n",
       "      <td>252.0</td>\n",
       "      <td>15.8</td>\n",
       "      <td>395.62</td>\n",
       "    </tr>\n",
       "    <tr>\n",
       "      <th>184</th>\n",
       "      <td>5.604</td>\n",
       "      <td>13.98</td>\n",
       "      <td>2.9879</td>\n",
       "      <td>0.08308</td>\n",
       "      <td>0.488</td>\n",
       "      <td>17.8</td>\n",
       "      <td>193.0</td>\n",
       "      <td>89.8</td>\n",
       "      <td>391.00</td>\n",
       "    </tr>\n",
       "  </tbody>\n",
       "</table>\n",
       "</div>"
      ],
      "text/plain": [
       "        RM  LSTAT     DIS     CRIM    NOX  PTRATIO    TAX   AGE       B\n",
       "100  6.727   9.42  2.7778  0.14866  0.520     20.9  384.0  79.9  394.76\n",
       "17   5.990  14.67  4.2579  0.78420  0.538     21.0  307.0  81.7  386.75\n",
       "140  6.174  24.16  1.6119  0.29090  0.624     21.2  437.0  93.6  388.08\n",
       "40   7.024   1.98  5.4011  0.03359  0.428     18.3  252.0  15.8  395.62\n",
       "184  5.604  13.98  2.9879  0.08308  0.488     17.8  193.0  89.8  391.00"
      ]
     },
     "execution_count": 64,
     "metadata": {},
     "output_type": "execute_result"
    }
   ],
   "source": [
    "x_train_f.head()"
   ]
  },
  {
   "cell_type": "code",
   "execution_count": 66,
   "id": "031b3dca",
   "metadata": {},
   "outputs": [
    {
     "data": {
      "text/html": [
       "<div>\n",
       "<style scoped>\n",
       "    .dataframe tbody tr th:only-of-type {\n",
       "        vertical-align: middle;\n",
       "    }\n",
       "\n",
       "    .dataframe tbody tr th {\n",
       "        vertical-align: top;\n",
       "    }\n",
       "\n",
       "    .dataframe thead th {\n",
       "        text-align: right;\n",
       "    }\n",
       "</style>\n",
       "<table border=\"1\" class=\"dataframe\">\n",
       "  <thead>\n",
       "    <tr style=\"text-align: right;\">\n",
       "      <th></th>\n",
       "      <th>RM</th>\n",
       "      <th>LSTAT</th>\n",
       "      <th>DIS</th>\n",
       "      <th>CRIM</th>\n",
       "      <th>NOX</th>\n",
       "      <th>PTRATIO</th>\n",
       "      <th>TAX</th>\n",
       "      <th>AGE</th>\n",
       "      <th>B</th>\n",
       "    </tr>\n",
       "  </thead>\n",
       "  <tbody>\n",
       "    <tr>\n",
       "      <th>488</th>\n",
       "      <td>5.454</td>\n",
       "      <td>18.06</td>\n",
       "      <td>1.8209</td>\n",
       "      <td>0.15086</td>\n",
       "      <td>0.609</td>\n",
       "      <td>20.1</td>\n",
       "      <td>711.0</td>\n",
       "      <td>92.7</td>\n",
       "      <td>395.09</td>\n",
       "    </tr>\n",
       "    <tr>\n",
       "      <th>128</th>\n",
       "      <td>6.431</td>\n",
       "      <td>15.39</td>\n",
       "      <td>1.8125</td>\n",
       "      <td>0.32543</td>\n",
       "      <td>0.624</td>\n",
       "      <td>21.2</td>\n",
       "      <td>437.0</td>\n",
       "      <td>98.8</td>\n",
       "      <td>396.90</td>\n",
       "    </tr>\n",
       "    <tr>\n",
       "      <th>191</th>\n",
       "      <td>6.739</td>\n",
       "      <td>4.69</td>\n",
       "      <td>6.4798</td>\n",
       "      <td>0.06911</td>\n",
       "      <td>0.437</td>\n",
       "      <td>15.2</td>\n",
       "      <td>398.0</td>\n",
       "      <td>30.8</td>\n",
       "      <td>389.71</td>\n",
       "    </tr>\n",
       "    <tr>\n",
       "      <th>53</th>\n",
       "      <td>5.998</td>\n",
       "      <td>8.43</td>\n",
       "      <td>6.8147</td>\n",
       "      <td>0.04981</td>\n",
       "      <td>0.439</td>\n",
       "      <td>16.8</td>\n",
       "      <td>243.0</td>\n",
       "      <td>21.4</td>\n",
       "      <td>396.90</td>\n",
       "    </tr>\n",
       "    <tr>\n",
       "      <th>388</th>\n",
       "      <td>4.880</td>\n",
       "      <td>30.62</td>\n",
       "      <td>1.5895</td>\n",
       "      <td>14.33370</td>\n",
       "      <td>0.700</td>\n",
       "      <td>20.2</td>\n",
       "      <td>666.0</td>\n",
       "      <td>100.0</td>\n",
       "      <td>372.92</td>\n",
       "    </tr>\n",
       "  </tbody>\n",
       "</table>\n",
       "</div>"
      ],
      "text/plain": [
       "        RM  LSTAT     DIS      CRIM    NOX  PTRATIO    TAX    AGE       B\n",
       "488  5.454  18.06  1.8209   0.15086  0.609     20.1  711.0   92.7  395.09\n",
       "128  6.431  15.39  1.8125   0.32543  0.624     21.2  437.0   98.8  396.90\n",
       "191  6.739   4.69  6.4798   0.06911  0.437     15.2  398.0   30.8  389.71\n",
       "53   5.998   8.43  6.8147   0.04981  0.439     16.8  243.0   21.4  396.90\n",
       "388  4.880  30.62  1.5895  14.33370  0.700     20.2  666.0  100.0  372.92"
      ]
     },
     "execution_count": 66,
     "metadata": {},
     "output_type": "execute_result"
    }
   ],
   "source": [
    "x_test_f.head()"
   ]
  },
  {
   "cell_type": "markdown",
   "id": "72eb8d43",
   "metadata": {},
   "source": [
    "#### We observe that the most importance features in predicting the PRICE are LSTAT and RM.\n",
    "#### Recall that these two parameters were previously found to be highly correlated with the PRICE."
   ]
  },
  {
   "cell_type": "markdown",
   "id": "64067fc9",
   "metadata": {},
   "source": [
    "Discarding non-important features:\n",
    "\n",
    "The next step will be to try and discard features with importance coefficient less than 0.01 and use it to model our Random Forest again to see if there is an improvement in our prediction results."
   ]
  },
  {
   "cell_type": "markdown",
   "id": "e4eb7e48",
   "metadata": {},
   "source": [
    "# Model:2"
   ]
  },
  {
   "cell_type": "code",
   "execution_count": 67,
   "id": "abb4b3ae",
   "metadata": {},
   "outputs": [
    {
     "data": {
      "text/plain": [
       "RandomForestRegressor()"
      ]
     },
     "execution_count": 67,
     "metadata": {},
     "output_type": "execute_result"
    }
   ],
   "source": [
    "#let's first visualize the tree on the data without doing any pre processing\n",
    "\n",
    "model_2 = RandomForestRegressor()\n",
    "model_2.fit(x_train_f, y_train)\n",
    "\n",
    "\n"
   ]
  },
  {
   "cell_type": "code",
   "execution_count": 68,
   "id": "33d8e2fe",
   "metadata": {},
   "outputs": [
    {
     "name": "stdout",
     "output_type": "stream",
     "text": [
      "Train data score 0.9798315951216561\n",
      "Train data r2_score 0.9798315951216561\n",
      "Train data MSE: 1.6134234322033885\n",
      "Train data MAE: 0.810477401129943\n",
      "Train data RMSE: 1.2702060589539748\n"
     ]
    }
   ],
   "source": [
    "y_hat_3=model_2.predict(x_train_f)\n",
    "\n",
    "print(\"Train data score\",model_2.score(x_train_f, y_train))\n",
    "print(\"Train data r2_score\",r2_score(y_train,y_hat_3))\n",
    "print(\"Train data MSE:\",mean_squared_error(y_train,y_hat_3))\n",
    "print(\"Train data MAE:\",mean_absolute_error(y_train,y_hat_3))\n",
    "print(\"Train data RMSE:\",np.sqrt(mean_squared_error(y_train,y_hat_3)))"
   ]
  },
  {
   "cell_type": "code",
   "execution_count": 69,
   "id": "0b25090a",
   "metadata": {},
   "outputs": [
    {
     "name": "stdout",
     "output_type": "stream",
     "text": [
      "Test data score 0.8859213110047213\n",
      "Test data r2_score 0.8859213110047213\n",
      "Test data MSE: 10.805246447368418\n",
      "Test data MAE: 2.3627499999999997\n",
      "Test data RMSE: 3.287133469661434\n"
     ]
    }
   ],
   "source": [
    "y_hat_4=model_2.predict(x_test_f)\n",
    "\n",
    "print(\"Test data score\",model_2.score(x_test_f, y_test))\n",
    "print(\"Test data r2_score\",r2_score(y_test,y_hat_4)) # (coefficient of determination) regression score function.(1.0)\n",
    "print(\"Test data MSE:\",mean_squared_error(y_test,y_hat_4))\n",
    "print(\"Test data MAE:\",mean_absolute_error(y_test,y_hat_4))\n",
    "print(\"Test data RMSE:\", np.sqrt(mean_squared_error(y_test,y_hat_4)))"
   ]
  },
  {
   "cell_type": "code",
   "execution_count": null,
   "id": "739c4acf",
   "metadata": {},
   "outputs": [],
   "source": []
  },
  {
   "cell_type": "markdown",
   "id": "40d93a1e",
   "metadata": {},
   "source": [
    "# MODEL:3 (Hypermeter Tuning)"
   ]
  },
  {
   "cell_type": "markdown",
   "id": "b60d6aff",
   "metadata": {},
   "source": [
    "grid_param_random = {\n",
    "    \n",
    "    \"n_estimators\":range(20,100,20),  #The number of trees in the forest\n",
    "    'criterion': [\"squared_error\", \"poisson\", \"absolute_error\"],  #default=”squared_error” The function to measure the quality of a split. \n",
    "    'max_depth' : range(2,32,1),#The maximum depth of the tree. If None, then nodes are expanded until all leaves are pure or until all leaves contain less than min_samples_split samples.\n",
    "    'min_samples_leaf' : range(1,10,1),#The minimum number of samples required to be at a leaf node. \n",
    "    'min_samples_split': range(2,10,1),#The minimum number of samples required to split an internal node:\n",
    "\n",
    "\n",
    "    \"bootstrap\":[True,False]#Whether bootstrap samples are used when building trees. If False, the whole dataset is used to build each tree.\n",
    "    \n",
    "}"
   ]
  },
  {
   "cell_type": "code",
   "execution_count": 70,
   "id": "354b4a17",
   "metadata": {},
   "outputs": [],
   "source": [
    "random_param = {\n",
    "    \n",
    "    \"n_estimators\":[10,20,30], \n",
    "    'criterion': [\"squared_error\",\"poisson\", \"absolute_error\"], \n",
    "    'max_depth' : [3,4,5,6],\n",
    "    'min_samples_leaf' : [0.04,0.06,0.08],\n",
    "    'min_samples_split': [2,3,4],\n",
    "    \"bootstrap\":[True,False] \n",
    "    \n",
    "}"
   ]
  },
  {
   "cell_type": "code",
   "execution_count": 71,
   "id": "e81665c2",
   "metadata": {},
   "outputs": [],
   "source": [
    "random_search = RandomizedSearchCV(estimator=model_2,\n",
    "                     param_distributions=random_param,random_state=42,\n",
    "                     cv=5,\n",
    "                    n_jobs =-1,verbose=2)"
   ]
  },
  {
   "cell_type": "markdown",
   "id": "c8770fd8",
   "metadata": {},
   "source": [
    "### n_jobsint, default=None\n",
    "Number of jobs to run in parallel. None means 1 unless in a joblib.parallel_backend context. -1 means using all processors. \n",
    "\n",
    "A search consists of:\n",
    "\n",
    "    an estimator (regressor or classifier such as sklearn.svm.SVC());\n",
    "\n",
    "    a parameter space;\n",
    "\n",
    "    a method for searching or sampling candidates;\n",
    "\n",
    "    a cross-validation scheme;\n",
    "\n",
    "### estimatorestimator object\n",
    "This is assumed to implement the scikit-learn estimator interface. Either estimator needs to provide a score function, or scoring must be passed.\n",
    "\n",
    "### param_griddict or list of dictionaries\n",
    "Dictionary with parameters names (str) as keys and lists of parameter settings to try as values, or a list of such dictionaries, in which case the grids spanned by each dictionary in the list are explored. This enables searching over any sequence of parameter settings.\n",
    "\n",
    "### cvint, cross-validation generator or an iterable, default=None\n",
    "Determines the cross-validation splitting strategy.For integer/None inputs, if the estimator is a classifier and y is either binary or multiclass, StratifiedKFold is used. In all other cases, KFold is used. These splitters are instantiated with shuffle=False so the splits will be the same across calls.\n",
    "\n",
    "### verboseint\n",
    "Controls the verbosity: the higher, the more messages.\n",
    "\n",
    "    >1 : the computation time for each fold and parameter candidate is displayed;\n",
    "\n",
    "    >2 : the score is also displayed;\n",
    "\n",
    "    >3 : the fold and candidate parameter indexes are also displayed together with the starting time of the computation"
   ]
  },
  {
   "cell_type": "markdown",
   "id": "65baa588",
   "metadata": {},
   "source": [
    "Improving the model= high training accuracy and a lower testing accuracy. We may be overfitting a bit.\n",
    "\n",
    "So now it's your turn to shine! Train a new model, and try to specify some parameters in order to improve the testing accuracy, such as:\n",
    "\n",
    "    max_depth\n",
    "    min_samples_leaf\n",
    "    min_samples_split\n",
    "    You can use your intuition, trial and error, or even better, feel free to use random Search!"
   ]
  },
  {
   "cell_type": "code",
   "execution_count": 72,
   "id": "e5d4069d",
   "metadata": {},
   "outputs": [
    {
     "name": "stdout",
     "output_type": "stream",
     "text": [
      "Fitting 5 folds for each of 10 candidates, totalling 50 fits\n"
     ]
    },
    {
     "data": {
      "text/plain": [
       "RandomizedSearchCV(cv=5, estimator=RandomForestRegressor(), n_jobs=-1,\n",
       "                   param_distributions={'bootstrap': [True, False],\n",
       "                                        'criterion': ['squared_error',\n",
       "                                                      'poisson',\n",
       "                                                      'absolute_error'],\n",
       "                                        'max_depth': [3, 4, 5, 6],\n",
       "                                        'min_samples_leaf': [0.04, 0.06, 0.08],\n",
       "                                        'min_samples_split': [2, 3, 4],\n",
       "                                        'n_estimators': [10, 20, 30]},\n",
       "                   random_state=42, verbose=2)"
      ]
     },
     "execution_count": 72,
     "metadata": {},
     "output_type": "execute_result"
    }
   ],
   "source": [
    "random_search.fit(x_train_f,y_train)"
   ]
  },
  {
   "cell_type": "code",
   "execution_count": 73,
   "id": "20ead12c",
   "metadata": {},
   "outputs": [
    {
     "name": "stdout",
     "output_type": "stream",
     "text": [
      "{'n_estimators': 20, 'min_samples_split': 2, 'min_samples_leaf': 0.08, 'max_depth': 5, 'criterion': 'poisson', 'bootstrap': True}\n"
     ]
    }
   ],
   "source": [
    "best_parameters = random_search.best_params_\n",
    "print(best_parameters)"
   ]
  },
  {
   "cell_type": "code",
   "execution_count": 74,
   "id": "55b8317b",
   "metadata": {},
   "outputs": [
    {
     "name": "stdout",
     "output_type": "stream",
     "text": [
      "Mean cross-validated score of the best_estimator: 0.6647657099503439\n"
     ]
    }
   ],
   "source": [
    "print(\"Mean cross-validated score of the best_estimator:\",random_search.best_score_ )"
   ]
  },
  {
   "cell_type": "code",
   "execution_count": 75,
   "id": "866dded3",
   "metadata": {},
   "outputs": [
    {
     "data": {
      "text/plain": [
       "RandomForestRegressor(criterion='poisson', max_depth=5, min_samples_leaf=0.08,\n",
       "                      n_estimators=20)"
      ]
     },
     "execution_count": 75,
     "metadata": {},
     "output_type": "execute_result"
    }
   ],
   "source": [
    "model_3=RandomForestRegressor(n_estimators= 20, min_samples_split= 2, min_samples_leaf= 0.08, max_depth= 5, criterion= 'poisson', bootstrap= True)\n",
    "\n",
    "model_3.fit(x_train_f,y_train)"
   ]
  },
  {
   "cell_type": "code",
   "execution_count": 76,
   "id": "32e61527",
   "metadata": {},
   "outputs": [
    {
     "name": "stdout",
     "output_type": "stream",
     "text": [
      "Train data score 0.7130442926819497\n",
      "Train data r2_score 0.7130442926819497\n",
      "Train data MSE: 22.955760010974952\n",
      "Train data MAE: 3.342841117629134\n",
      "Train data RMSE: 4.791216965550084\n"
     ]
    }
   ],
   "source": [
    "y_hat_5=model_3.predict(x_train_f)\n",
    "\n",
    "print(\"Train data score\",model_3.score(x_train_f,y_train))\n",
    "print(\"Train data r2_score\",r2_score(y_train,y_hat_5))\n",
    "print(\"Train data MSE:\",mean_squared_error(y_train,y_hat_5))\n",
    "print(\"Train data MAE:\",mean_absolute_error(y_train,y_hat_5))\n",
    "print(\"Train data RMSE:\",np.sqrt(mean_squared_error(y_train,y_hat_5)))"
   ]
  },
  {
   "cell_type": "code",
   "execution_count": 77,
   "id": "cd6eeab4",
   "metadata": {},
   "outputs": [
    {
     "name": "stdout",
     "output_type": "stream",
     "text": [
      "Test data score 0.740410371820887\n",
      "Test data r2_score 0.740410371820887\n",
      "Test data MSE: 24.58767656220289\n",
      "Test data MAE: 3.6428436818680545\n",
      "Test data RMSE: 4.958596228994945\n"
     ]
    }
   ],
   "source": [
    "y_hat_6=model_3.predict(x_test_f)\n",
    "\n",
    "print(\"Test data score\",model_3.score(x_test_f, y_test))\n",
    "print(\"Test data r2_score\",r2_score(y_test,y_hat_6)) # (coefficient of determination) regression score function.(1.0)\n",
    "print(\"Test data MSE:\",mean_squared_error(y_test,y_hat_6))\n",
    "print(\"Test data MAE:\",mean_absolute_error(y_test,y_hat_6))\n",
    "print(\"Test data RMSE:\", np.sqrt(mean_squared_error(y_test,y_hat_6)))"
   ]
  },
  {
   "cell_type": "code",
   "execution_count": null,
   "id": "bdc7c58f",
   "metadata": {},
   "outputs": [],
   "source": []
  },
  {
   "cell_type": "markdown",
   "id": "74093298",
   "metadata": {},
   "source": [
    "# MODEL:4"
   ]
  },
  {
   "cell_type": "code",
   "execution_count": 78,
   "id": "1831d686",
   "metadata": {},
   "outputs": [
    {
     "name": "stdout",
     "output_type": "stream",
     "text": [
      "Fitting 3 folds for each of 100 candidates, totalling 300 fits\n"
     ]
    },
    {
     "data": {
      "text/plain": [
       "{'n_estimators': 780,\n",
       " 'min_samples_leaf': 1,\n",
       " 'max_features': 'sqrt',\n",
       " 'bootstrap': False}"
      ]
     },
     "execution_count": 78,
     "metadata": {},
     "output_type": "execute_result"
    }
   ],
   "source": [
    "n_estimators = [int(x) for x in np.arange(start = 10, stop = 2000, step = 10)]\n",
    "max_features = [0.5,'auto', 'sqrt','log2']\n",
    "min_samples_leaf = [1, 2, 4]\n",
    "bootstrap = [True, False]\n",
    "random_grid = {'n_estimators': n_estimators,\n",
    "               'max_features': max_features,\n",
    "               'min_samples_leaf': min_samples_leaf,\n",
    "               'bootstrap': bootstrap}\n",
    "# First create the base model to tune\n",
    "m = RandomForestRegressor()\n",
    "# Fit the random search model\n",
    "m_random = RandomizedSearchCV(estimator = m, param_distributions = random_grid, n_iter = 100, cv = 3, verbose=2, random_state=42, n_jobs = -1)\n",
    "\n",
    "\n",
    "\n",
    "m_random.fit(x_train_f, y_train)\n",
    "m_random.best_params_"
   ]
  },
  {
   "cell_type": "code",
   "execution_count": 79,
   "id": "34692073",
   "metadata": {},
   "outputs": [
    {
     "data": {
      "text/plain": [
       "RandomForestRegressor(bootstrap=False, max_features='sqrt', n_estimators=780)"
      ]
     },
     "execution_count": 79,
     "metadata": {},
     "output_type": "execute_result"
    }
   ],
   "source": [
    "model_4=RandomForestRegressor(n_estimators= 780, min_samples_leaf= 1,max_features= \"sqrt\", bootstrap= False)\n",
    "model_4.fit(x_train_f,y_train)"
   ]
  },
  {
   "cell_type": "code",
   "execution_count": 80,
   "id": "007266bc",
   "metadata": {},
   "outputs": [
    {
     "name": "stdout",
     "output_type": "stream",
     "text": [
      "Mean cross-validated score of the best_estimator: 0.8570051134496793\n"
     ]
    }
   ],
   "source": [
    "print(\"Mean cross-validated score of the best_estimator:\",m_random.best_score_ )"
   ]
  },
  {
   "cell_type": "code",
   "execution_count": 81,
   "id": "d92869eb",
   "metadata": {},
   "outputs": [
    {
     "name": "stdout",
     "output_type": "stream",
     "text": [
      "Train data score 0.9999999997753835\n",
      "Train data r2_score 0.9999999997753835\n",
      "Train data MSE: 1.7968776116839412e-08\n",
      "Train data MAE: 1.8108069132755747e-05\n",
      "Train data RMSE: 0.00013404766360082301\n"
     ]
    }
   ],
   "source": [
    "y_hat_7=model_4.predict(x_train_f)\n",
    "\n",
    "print(\"Train data score\",model_4.score(x_train_f,y_train))\n",
    "print(\"Train data r2_score\",r2_score(y_train,y_hat_7))\n",
    "print(\"Train data MSE:\",mean_squared_error(y_train,y_hat_7))\n",
    "print(\"Train data MAE:\",mean_absolute_error(y_train,y_hat_7))\n",
    "print(\"Train data RMSE:\",np.sqrt(mean_squared_error(y_train,y_hat_7)))"
   ]
  },
  {
   "cell_type": "code",
   "execution_count": 82,
   "id": "0df42eed",
   "metadata": {},
   "outputs": [
    {
     "name": "stdout",
     "output_type": "stream",
     "text": [
      "Test data score 0.8999119284119609\n",
      "Test data r2_score 0.8999119284119609\n",
      "Test data MSE: 9.48009036109604\n",
      "Test data MAE: 2.2717864372469747\n",
      "Test data RMSE: 3.07897553759299\n"
     ]
    }
   ],
   "source": [
    "y_hat_8=model_4.predict(x_test_f)\n",
    "\n",
    "print(\"Test data score\",model_4.score(x_test_f, y_test))\n",
    "print(\"Test data r2_score\",r2_score(y_test,y_hat_8)) # (coefficient of determination) regression score function.(1.0)\n",
    "print(\"Test data MSE:\",mean_squared_error(y_test,y_hat_8))\n",
    "print(\"Test data MAE:\",mean_absolute_error(y_test,y_hat_8))\n",
    "print(\"Test data RMSE:\", np.sqrt(mean_squared_error(y_test,y_hat_8)))"
   ]
  },
  {
   "cell_type": "code",
   "execution_count": 83,
   "id": "9c65bf62",
   "metadata": {},
   "outputs": [
    {
     "data": {
      "text/html": [
       "<div>\n",
       "<style scoped>\n",
       "    .dataframe tbody tr th:only-of-type {\n",
       "        vertical-align: middle;\n",
       "    }\n",
       "\n",
       "    .dataframe tbody tr th {\n",
       "        vertical-align: top;\n",
       "    }\n",
       "\n",
       "    .dataframe thead th {\n",
       "        text-align: right;\n",
       "    }\n",
       "</style>\n",
       "<table border=\"1\" class=\"dataframe\">\n",
       "  <thead>\n",
       "    <tr style=\"text-align: right;\">\n",
       "      <th></th>\n",
       "      <th>Real Values train</th>\n",
       "      <th>Predicted Values train</th>\n",
       "    </tr>\n",
       "  </thead>\n",
       "  <tbody>\n",
       "    <tr>\n",
       "      <th>100</th>\n",
       "      <td>27.5</td>\n",
       "      <td>27.5</td>\n",
       "    </tr>\n",
       "    <tr>\n",
       "      <th>17</th>\n",
       "      <td>17.5</td>\n",
       "      <td>17.5</td>\n",
       "    </tr>\n",
       "    <tr>\n",
       "      <th>140</th>\n",
       "      <td>14.0</td>\n",
       "      <td>14.0</td>\n",
       "    </tr>\n",
       "    <tr>\n",
       "      <th>40</th>\n",
       "      <td>34.9</td>\n",
       "      <td>34.9</td>\n",
       "    </tr>\n",
       "    <tr>\n",
       "      <th>184</th>\n",
       "      <td>26.4</td>\n",
       "      <td>26.4</td>\n",
       "    </tr>\n",
       "  </tbody>\n",
       "</table>\n",
       "</div>"
      ],
      "text/plain": [
       "     Real Values train  Predicted Values train\n",
       "100               27.5                    27.5\n",
       "17                17.5                    17.5\n",
       "140               14.0                    14.0\n",
       "40                34.9                    34.9\n",
       "184               26.4                    26.4"
      ]
     },
     "execution_count": 83,
     "metadata": {},
     "output_type": "execute_result"
    }
   ],
   "source": [
    "predict_dataframe_train=pd.DataFrame({\"Real Values train\":y_train, \"Predicted Values train\" :y_hat_7})\n",
    "predict_dataframe_train.head()"
   ]
  },
  {
   "cell_type": "code",
   "execution_count": 84,
   "id": "f5867b6b",
   "metadata": {},
   "outputs": [
    {
     "data": {
      "text/html": [
       "<div>\n",
       "<style scoped>\n",
       "    .dataframe tbody tr th:only-of-type {\n",
       "        vertical-align: middle;\n",
       "    }\n",
       "\n",
       "    .dataframe tbody tr th {\n",
       "        vertical-align: top;\n",
       "    }\n",
       "\n",
       "    .dataframe thead th {\n",
       "        text-align: right;\n",
       "    }\n",
       "</style>\n",
       "<table border=\"1\" class=\"dataframe\">\n",
       "  <thead>\n",
       "    <tr style=\"text-align: right;\">\n",
       "      <th></th>\n",
       "      <th>Real Values test</th>\n",
       "      <th>Predicted Values test</th>\n",
       "    </tr>\n",
       "  </thead>\n",
       "  <tbody>\n",
       "    <tr>\n",
       "      <th>488</th>\n",
       "      <td>15.2</td>\n",
       "      <td>11.611154</td>\n",
       "    </tr>\n",
       "    <tr>\n",
       "      <th>128</th>\n",
       "      <td>18.0</td>\n",
       "      <td>17.312308</td>\n",
       "    </tr>\n",
       "    <tr>\n",
       "      <th>191</th>\n",
       "      <td>30.5</td>\n",
       "      <td>30.753718</td>\n",
       "    </tr>\n",
       "    <tr>\n",
       "      <th>53</th>\n",
       "      <td>23.4</td>\n",
       "      <td>21.098462</td>\n",
       "    </tr>\n",
       "    <tr>\n",
       "      <th>388</th>\n",
       "      <td>10.2</td>\n",
       "      <td>8.877564</td>\n",
       "    </tr>\n",
       "  </tbody>\n",
       "</table>\n",
       "</div>"
      ],
      "text/plain": [
       "     Real Values test  Predicted Values test \n",
       "488              15.2               11.611154\n",
       "128              18.0               17.312308\n",
       "191              30.5               30.753718\n",
       "53               23.4               21.098462\n",
       "388              10.2                8.877564"
      ]
     },
     "execution_count": 84,
     "metadata": {},
     "output_type": "execute_result"
    }
   ],
   "source": [
    "predict_dataframe_test=pd.DataFrame({'Real Values test':y_test, 'Predicted Values test ':y_hat_8})\n",
    "predict_dataframe_test.head()"
   ]
  },
  {
   "cell_type": "code",
   "execution_count": 86,
   "id": "97f94af8",
   "metadata": {},
   "outputs": [],
   "source": [
    "# SAVE MODEL\n",
    "import pickle\n",
    "\n",
    "filename = 'Boostan house price.pickle'\n",
    "pickle.dump(model_4, open(filename, 'wb'))\n",
    "\n",
    "loaded_model = pickle.load(open(filename, 'rb'))"
   ]
  },
  {
   "cell_type": "code",
   "execution_count": null,
   "id": "5ec49451",
   "metadata": {},
   "outputs": [],
   "source": []
  }
 ],
 "metadata": {
  "kernelspec": {
   "display_name": "Python 3 (ipykernel)",
   "language": "python",
   "name": "python3"
  },
  "language_info": {
   "codemirror_mode": {
    "name": "ipython",
    "version": 3
   },
   "file_extension": ".py",
   "mimetype": "text/x-python",
   "name": "python",
   "nbconvert_exporter": "python",
   "pygments_lexer": "ipython3",
   "version": "3.9.7"
  }
 },
 "nbformat": 4,
 "nbformat_minor": 5
}
